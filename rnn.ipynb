{
  "cells": [
    {
      "cell_type": "markdown",
      "metadata": {
        "id": "view-in-github",
        "colab_type": "text"
      },
      "source": [
        "<a href=\"https://colab.research.google.com/github/rachaelmmccue/Capstone/blob/main/rnn.ipynb\" target=\"_parent\"><img src=\"https://colab.research.google.com/assets/colab-badge.svg\" alt=\"Open In Colab\"/></a>"
      ]
    },
    {
      "cell_type": "code",
      "source": [
        "import pandas as pd\n",
        "import numpy as np\n",
        "import tensorflow as tf\n",
        "from tensorflow import keras\n",
        "from sklearn.preprocessing import StandardScaler\n",
        "\n",
        "from keras import models\n",
        "from keras import layers\n",
        "from keras import optimizers\n",
        "\n",
        "from train_test_split_df import *"
      ],
      "metadata": {
        "id": "lvzStkWZolHV"
      },
      "id": "lvzStkWZolHV",
      "execution_count": 1,
      "outputs": []
    },
    {
      "cell_type": "code",
      "source": [
        "df = pd.read_csv('tracks_session_clean2.csv', index_col=0)"
      ],
      "metadata": {
        "id": "t2fMPHjbpAVh"
      },
      "id": "t2fMPHjbpAVh",
      "execution_count": 2,
      "outputs": []
    },
    {
      "cell_type": "code",
      "source": [
        "df.head()"
      ],
      "metadata": {
        "id": "5r0P--NSpEoo",
        "colab": {
          "base_uri": "https://localhost:8080/",
          "height": 560
        },
        "outputId": "ff5a1d8b-d350-4258-9f41-fe087f88c267"
      },
      "id": "5r0P--NSpEoo",
      "execution_count": 4,
      "outputs": [
        {
          "output_type": "execute_result",
          "data": {
            "text/plain": [
              "                               session_id  session_position  session_length  \\\n",
              "0  0_00006f66-33e5-4de7-a324-2d18e439fc1e                 1              20   \n",
              "1  0_00006f66-33e5-4de7-a324-2d18e439fc1e                 2              20   \n",
              "2  0_00006f66-33e5-4de7-a324-2d18e439fc1e                 3              20   \n",
              "3  0_00006f66-33e5-4de7-a324-2d18e439fc1e                 4              20   \n",
              "4  0_00006f66-33e5-4de7-a324-2d18e439fc1e                 5              20   \n",
              "\n",
              "         date  EarlyAM  Evening  LateAMEarlyPM  LatePM  Night  \\\n",
              "0  2018-07-15        0        1              0       0      0   \n",
              "1  2018-07-15        0        1              0       0      0   \n",
              "2  2018-07-15        0        1              0       0      0   \n",
              "3  2018-07-15        0        1              0       0      0   \n",
              "4  2018-07-15        0        1              0       0      0   \n",
              "\n",
              "                                 track_id  ...  time_signature   valence  \\\n",
              "0  t_0479f24c-27d2-46d6-a00c-7ec928f2b539  ...               4  0.152255   \n",
              "1  t_9099cd7b-c238-47b7-9381-f23f2c1d1043  ...               4  0.337152   \n",
              "2  t_fc5df5ba-5396-49a7-8b29-35d0d28249e0  ...               4  0.373862   \n",
              "3  t_23cff8d6-d874-4b20-83dc-94e450e8aa20  ...               4  0.649420   \n",
              "4  t_64f3743c-f624-46bb-a579-0f3f9a07a123  ...               4  0.652921   \n",
              "\n",
              "   acoustic_vector_0  acoustic_vector_1  acoustic_vector_2 acoustic_vector_3  \\\n",
              "0          -0.815775           0.386409           0.230160          0.028028   \n",
              "1          -0.713646           0.363718           0.310315         -0.042222   \n",
              "2          -0.742541           0.375599           0.252660         -0.049007   \n",
              "3          -0.705116           0.317562           0.289141         -0.038920   \n",
              "4          -0.868489           0.331280           0.210478          0.084740   \n",
              "\n",
              "   acoustic_vector_4  acoustic_vector_5  acoustic_vector_6  acoustic_vector_7  \n",
              "0          -0.333373           0.015452          -0.353590           0.205826  \n",
              "1          -0.383164           0.066357          -0.365308           0.157920  \n",
              "2          -0.299745           0.063341          -0.486689           0.181604  \n",
              "3          -0.393358           0.092719          -0.364418           0.285603  \n",
              "4          -0.333287          -0.025706          -0.510350           0.182315  \n",
              "\n",
              "[5 rows x 48 columns]"
            ],
            "text/html": [
              "\n",
              "  <div id=\"df-ec7ca8d0-bc54-4947-9aac-3ae6f9162749\">\n",
              "    <div class=\"colab-df-container\">\n",
              "      <div>\n",
              "<style scoped>\n",
              "    .dataframe tbody tr th:only-of-type {\n",
              "        vertical-align: middle;\n",
              "    }\n",
              "\n",
              "    .dataframe tbody tr th {\n",
              "        vertical-align: top;\n",
              "    }\n",
              "\n",
              "    .dataframe thead th {\n",
              "        text-align: right;\n",
              "    }\n",
              "</style>\n",
              "<table border=\"1\" class=\"dataframe\">\n",
              "  <thead>\n",
              "    <tr style=\"text-align: right;\">\n",
              "      <th></th>\n",
              "      <th>session_id</th>\n",
              "      <th>session_position</th>\n",
              "      <th>session_length</th>\n",
              "      <th>date</th>\n",
              "      <th>EarlyAM</th>\n",
              "      <th>Evening</th>\n",
              "      <th>LateAMEarlyPM</th>\n",
              "      <th>LatePM</th>\n",
              "      <th>Night</th>\n",
              "      <th>track_id</th>\n",
              "      <th>...</th>\n",
              "      <th>time_signature</th>\n",
              "      <th>valence</th>\n",
              "      <th>acoustic_vector_0</th>\n",
              "      <th>acoustic_vector_1</th>\n",
              "      <th>acoustic_vector_2</th>\n",
              "      <th>acoustic_vector_3</th>\n",
              "      <th>acoustic_vector_4</th>\n",
              "      <th>acoustic_vector_5</th>\n",
              "      <th>acoustic_vector_6</th>\n",
              "      <th>acoustic_vector_7</th>\n",
              "    </tr>\n",
              "  </thead>\n",
              "  <tbody>\n",
              "    <tr>\n",
              "      <th>0</th>\n",
              "      <td>0_00006f66-33e5-4de7-a324-2d18e439fc1e</td>\n",
              "      <td>1</td>\n",
              "      <td>20</td>\n",
              "      <td>2018-07-15</td>\n",
              "      <td>0</td>\n",
              "      <td>1</td>\n",
              "      <td>0</td>\n",
              "      <td>0</td>\n",
              "      <td>0</td>\n",
              "      <td>t_0479f24c-27d2-46d6-a00c-7ec928f2b539</td>\n",
              "      <td>...</td>\n",
              "      <td>4</td>\n",
              "      <td>0.152255</td>\n",
              "      <td>-0.815775</td>\n",
              "      <td>0.386409</td>\n",
              "      <td>0.230160</td>\n",
              "      <td>0.028028</td>\n",
              "      <td>-0.333373</td>\n",
              "      <td>0.015452</td>\n",
              "      <td>-0.353590</td>\n",
              "      <td>0.205826</td>\n",
              "    </tr>\n",
              "    <tr>\n",
              "      <th>1</th>\n",
              "      <td>0_00006f66-33e5-4de7-a324-2d18e439fc1e</td>\n",
              "      <td>2</td>\n",
              "      <td>20</td>\n",
              "      <td>2018-07-15</td>\n",
              "      <td>0</td>\n",
              "      <td>1</td>\n",
              "      <td>0</td>\n",
              "      <td>0</td>\n",
              "      <td>0</td>\n",
              "      <td>t_9099cd7b-c238-47b7-9381-f23f2c1d1043</td>\n",
              "      <td>...</td>\n",
              "      <td>4</td>\n",
              "      <td>0.337152</td>\n",
              "      <td>-0.713646</td>\n",
              "      <td>0.363718</td>\n",
              "      <td>0.310315</td>\n",
              "      <td>-0.042222</td>\n",
              "      <td>-0.383164</td>\n",
              "      <td>0.066357</td>\n",
              "      <td>-0.365308</td>\n",
              "      <td>0.157920</td>\n",
              "    </tr>\n",
              "    <tr>\n",
              "      <th>2</th>\n",
              "      <td>0_00006f66-33e5-4de7-a324-2d18e439fc1e</td>\n",
              "      <td>3</td>\n",
              "      <td>20</td>\n",
              "      <td>2018-07-15</td>\n",
              "      <td>0</td>\n",
              "      <td>1</td>\n",
              "      <td>0</td>\n",
              "      <td>0</td>\n",
              "      <td>0</td>\n",
              "      <td>t_fc5df5ba-5396-49a7-8b29-35d0d28249e0</td>\n",
              "      <td>...</td>\n",
              "      <td>4</td>\n",
              "      <td>0.373862</td>\n",
              "      <td>-0.742541</td>\n",
              "      <td>0.375599</td>\n",
              "      <td>0.252660</td>\n",
              "      <td>-0.049007</td>\n",
              "      <td>-0.299745</td>\n",
              "      <td>0.063341</td>\n",
              "      <td>-0.486689</td>\n",
              "      <td>0.181604</td>\n",
              "    </tr>\n",
              "    <tr>\n",
              "      <th>3</th>\n",
              "      <td>0_00006f66-33e5-4de7-a324-2d18e439fc1e</td>\n",
              "      <td>4</td>\n",
              "      <td>20</td>\n",
              "      <td>2018-07-15</td>\n",
              "      <td>0</td>\n",
              "      <td>1</td>\n",
              "      <td>0</td>\n",
              "      <td>0</td>\n",
              "      <td>0</td>\n",
              "      <td>t_23cff8d6-d874-4b20-83dc-94e450e8aa20</td>\n",
              "      <td>...</td>\n",
              "      <td>4</td>\n",
              "      <td>0.649420</td>\n",
              "      <td>-0.705116</td>\n",
              "      <td>0.317562</td>\n",
              "      <td>0.289141</td>\n",
              "      <td>-0.038920</td>\n",
              "      <td>-0.393358</td>\n",
              "      <td>0.092719</td>\n",
              "      <td>-0.364418</td>\n",
              "      <td>0.285603</td>\n",
              "    </tr>\n",
              "    <tr>\n",
              "      <th>4</th>\n",
              "      <td>0_00006f66-33e5-4de7-a324-2d18e439fc1e</td>\n",
              "      <td>5</td>\n",
              "      <td>20</td>\n",
              "      <td>2018-07-15</td>\n",
              "      <td>0</td>\n",
              "      <td>1</td>\n",
              "      <td>0</td>\n",
              "      <td>0</td>\n",
              "      <td>0</td>\n",
              "      <td>t_64f3743c-f624-46bb-a579-0f3f9a07a123</td>\n",
              "      <td>...</td>\n",
              "      <td>4</td>\n",
              "      <td>0.652921</td>\n",
              "      <td>-0.868489</td>\n",
              "      <td>0.331280</td>\n",
              "      <td>0.210478</td>\n",
              "      <td>0.084740</td>\n",
              "      <td>-0.333287</td>\n",
              "      <td>-0.025706</td>\n",
              "      <td>-0.510350</td>\n",
              "      <td>0.182315</td>\n",
              "    </tr>\n",
              "  </tbody>\n",
              "</table>\n",
              "<p>5 rows × 48 columns</p>\n",
              "</div>\n",
              "      <button class=\"colab-df-convert\" onclick=\"convertToInteractive('df-ec7ca8d0-bc54-4947-9aac-3ae6f9162749')\"\n",
              "              title=\"Convert this dataframe to an interactive table.\"\n",
              "              style=\"display:none;\">\n",
              "        \n",
              "  <svg xmlns=\"http://www.w3.org/2000/svg\" height=\"24px\"viewBox=\"0 0 24 24\"\n",
              "       width=\"24px\">\n",
              "    <path d=\"M0 0h24v24H0V0z\" fill=\"none\"/>\n",
              "    <path d=\"M18.56 5.44l.94 2.06.94-2.06 2.06-.94-2.06-.94-.94-2.06-.94 2.06-2.06.94zm-11 1L8.5 8.5l.94-2.06 2.06-.94-2.06-.94L8.5 2.5l-.94 2.06-2.06.94zm10 10l.94 2.06.94-2.06 2.06-.94-2.06-.94-.94-2.06-.94 2.06-2.06.94z\"/><path d=\"M17.41 7.96l-1.37-1.37c-.4-.4-.92-.59-1.43-.59-.52 0-1.04.2-1.43.59L10.3 9.45l-7.72 7.72c-.78.78-.78 2.05 0 2.83L4 21.41c.39.39.9.59 1.41.59.51 0 1.02-.2 1.41-.59l7.78-7.78 2.81-2.81c.8-.78.8-2.07 0-2.86zM5.41 20L4 18.59l7.72-7.72 1.47 1.35L5.41 20z\"/>\n",
              "  </svg>\n",
              "      </button>\n",
              "      \n",
              "  <style>\n",
              "    .colab-df-container {\n",
              "      display:flex;\n",
              "      flex-wrap:wrap;\n",
              "      gap: 12px;\n",
              "    }\n",
              "\n",
              "    .colab-df-convert {\n",
              "      background-color: #E8F0FE;\n",
              "      border: none;\n",
              "      border-radius: 50%;\n",
              "      cursor: pointer;\n",
              "      display: none;\n",
              "      fill: #1967D2;\n",
              "      height: 32px;\n",
              "      padding: 0 0 0 0;\n",
              "      width: 32px;\n",
              "    }\n",
              "\n",
              "    .colab-df-convert:hover {\n",
              "      background-color: #E2EBFA;\n",
              "      box-shadow: 0px 1px 2px rgba(60, 64, 67, 0.3), 0px 1px 3px 1px rgba(60, 64, 67, 0.15);\n",
              "      fill: #174EA6;\n",
              "    }\n",
              "\n",
              "    [theme=dark] .colab-df-convert {\n",
              "      background-color: #3B4455;\n",
              "      fill: #D2E3FC;\n",
              "    }\n",
              "\n",
              "    [theme=dark] .colab-df-convert:hover {\n",
              "      background-color: #434B5C;\n",
              "      box-shadow: 0px 1px 3px 1px rgba(0, 0, 0, 0.15);\n",
              "      filter: drop-shadow(0px 1px 2px rgba(0, 0, 0, 0.3));\n",
              "      fill: #FFFFFF;\n",
              "    }\n",
              "  </style>\n",
              "\n",
              "      <script>\n",
              "        const buttonEl =\n",
              "          document.querySelector('#df-ec7ca8d0-bc54-4947-9aac-3ae6f9162749 button.colab-df-convert');\n",
              "        buttonEl.style.display =\n",
              "          google.colab.kernel.accessAllowed ? 'block' : 'none';\n",
              "\n",
              "        async function convertToInteractive(key) {\n",
              "          const element = document.querySelector('#df-ec7ca8d0-bc54-4947-9aac-3ae6f9162749');\n",
              "          const dataTable =\n",
              "            await google.colab.kernel.invokeFunction('convertToInteractive',\n",
              "                                                     [key], {});\n",
              "          if (!dataTable) return;\n",
              "\n",
              "          const docLinkHtml = 'Like what you see? Visit the ' +\n",
              "            '<a target=\"_blank\" href=https://colab.research.google.com/notebooks/data_table.ipynb>data table notebook</a>'\n",
              "            + ' to learn more about interactive tables.';\n",
              "          element.innerHTML = '';\n",
              "          dataTable['output_type'] = 'display_data';\n",
              "          await google.colab.output.renderOutput(dataTable, element);\n",
              "          const docLink = document.createElement('div');\n",
              "          docLink.innerHTML = docLinkHtml;\n",
              "          element.appendChild(docLink);\n",
              "        }\n",
              "      </script>\n",
              "    </div>\n",
              "  </div>\n",
              "  "
            ]
          },
          "metadata": {},
          "execution_count": 4
        }
      ]
    },
    {
      "cell_type": "code",
      "source": [
        "drop_col = ['session_id', 'session_length', 'date', 'track_id', 'hist_user_behavior_reason_start', 'beat_strength', 'dyn_range_mean',\n",
        "'acoustic_vector_0', 'acoustic_vector_1', 'acoustic_vector_2', 'acoustic_vector_3', 'acoustic_vector_4', 'acoustic_vector_5', 'acoustic_vector_6', 'acoustic_vector_7']\n",
        "\n",
        "def drop(df):\n",
        "    df = df.drop(labels=drop_col, axis=1)\n",
        "    return df"
      ],
      "metadata": {
        "id": "Eaj8ZAtKIZ0H"
      },
      "id": "Eaj8ZAtKIZ0H",
      "execution_count": 3,
      "outputs": []
    },
    {
      "cell_type": "code",
      "source": [
        "train, test = train_test_split_df(df)"
      ],
      "metadata": {
        "id": "EqmW572yQO4V"
      },
      "id": "EqmW572yQO4V",
      "execution_count": 4,
      "outputs": []
    },
    {
      "cell_type": "code",
      "source": [
        "train = drop(train)\n",
        "test = drop(test)"
      ],
      "metadata": {
        "id": "MO1BVbwxIjU1"
      },
      "id": "MO1BVbwxIjU1",
      "execution_count": 5,
      "outputs": []
    },
    {
      "cell_type": "code",
      "source": [
        "X_train = train.drop('skipped', axis=1)\n",
        "X_test = test.drop('skipped', axis=1)\n",
        "y_train = train['skipped']\n",
        "y_test = test['skipped']"
      ],
      "metadata": {
        "id": "4jJU4vc6IMOP"
      },
      "id": "4jJU4vc6IMOP",
      "execution_count": 6,
      "outputs": []
    },
    {
      "cell_type": "code",
      "source": [
        "scaler = StandardScaler()\n",
        "\n",
        "X_train_scaled = scaler.fit_transform(X_train)\n",
        "X_test_scaled = scaler.transform(X_test)"
      ],
      "metadata": {
        "id": "ou4o73yvI_07"
      },
      "id": "ou4o73yvI_07",
      "execution_count": 7,
      "outputs": []
    },
    {
      "cell_type": "code",
      "source": [
        "X_train = X_train_scaled.reshape((X_train_scaled.shape[0], 1, X_train_scaled.shape[1]))\n",
        "X_test = X_test_scaled.reshape((X_test_scaled.shape[0], 1, X_test_scaled.shape[1]))"
      ],
      "metadata": {
        "id": "nuh7yaP4IRgf"
      },
      "id": "nuh7yaP4IRgf",
      "execution_count": 8,
      "outputs": []
    },
    {
      "cell_type": "code",
      "source": [
        "model = keras.Sequential()"
      ],
      "metadata": {
        "id": "yZc69OyDrRAL"
      },
      "id": "yZc69OyDrRAL",
      "execution_count": 9,
      "outputs": []
    },
    {
      "cell_type": "code",
      "source": [
        "model.add(layers.Dense(30, activation='relu'))"
      ],
      "metadata": {
        "id": "P-KaYaTARbYt"
      },
      "id": "P-KaYaTARbYt",
      "execution_count": 10,
      "outputs": []
    },
    {
      "cell_type": "code",
      "source": [
        "model.add(layers.Dense(15, activation='tanh'))"
      ],
      "metadata": {
        "id": "Z0hS-x6MVG-O"
      },
      "id": "Z0hS-x6MVG-O",
      "execution_count": 11,
      "outputs": []
    },
    {
      "cell_type": "code",
      "source": [
        "model.add(layers.LSTM(15, activation='relu', input_shape=(X_train.shape[1], X_train.shape[2]), return_sequences=True))"
      ],
      "metadata": {
        "id": "mzSi4jMnT5o-"
      },
      "id": "mzSi4jMnT5o-",
      "execution_count": 12,
      "outputs": []
    },
    {
      "cell_type": "code",
      "source": [
        "model.add(layers.Dropout(0.2))"
      ],
      "metadata": {
        "id": "gWNRyxU1GTbh"
      },
      "id": "gWNRyxU1GTbh",
      "execution_count": 13,
      "outputs": []
    },
    {
      "cell_type": "code",
      "source": [
        "model.add(layers.Dense(1, activation='sigmoid'))"
      ],
      "metadata": {
        "id": "m-wnZbGE-hu3"
      },
      "id": "m-wnZbGE-hu3",
      "execution_count": 14,
      "outputs": []
    },
    {
      "cell_type": "code",
      "source": [
        "model.compile(loss='binary_crossentropy', metrics=\"accuracy\")"
      ],
      "metadata": {
        "id": "8r1PmfoYEkGi"
      },
      "id": "8r1PmfoYEkGi",
      "execution_count": 15,
      "outputs": []
    },
    {
      "cell_type": "code",
      "source": [
        "model.fit(X_train, y_train, epochs=100)"
      ],
      "metadata": {
        "colab": {
          "base_uri": "https://localhost:8080/"
        },
        "id": "la8JW3fcGX6_",
        "outputId": "13f317aa-3992-479a-dae5-ac8f033859e5"
      },
      "id": "la8JW3fcGX6_",
      "execution_count": 16,
      "outputs": [
        {
          "output_type": "stream",
          "name": "stdout",
          "text": [
            "Epoch 1/100\n",
            "3609/3609 [==============================] - 17s 4ms/step - loss: 0.6761 - accuracy: 0.5774\n",
            "Epoch 2/100\n",
            "3609/3609 [==============================] - 14s 4ms/step - loss: 0.6724 - accuracy: 0.5852\n",
            "Epoch 3/100\n",
            "3609/3609 [==============================] - 14s 4ms/step - loss: 0.6711 - accuracy: 0.5875\n",
            "Epoch 4/100\n",
            "3609/3609 [==============================] - 14s 4ms/step - loss: 0.6701 - accuracy: 0.5888\n",
            "Epoch 5/100\n",
            "3609/3609 [==============================] - 13s 4ms/step - loss: 0.6691 - accuracy: 0.5901\n",
            "Epoch 6/100\n",
            "3609/3609 [==============================] - 14s 4ms/step - loss: 0.6687 - accuracy: 0.5911\n",
            "Epoch 7/100\n",
            "3609/3609 [==============================] - 14s 4ms/step - loss: 0.6682 - accuracy: 0.5921\n",
            "Epoch 8/100\n",
            "3609/3609 [==============================] - 14s 4ms/step - loss: 0.6677 - accuracy: 0.5920\n",
            "Epoch 9/100\n",
            "3609/3609 [==============================] - 14s 4ms/step - loss: 0.6676 - accuracy: 0.5920\n",
            "Epoch 10/100\n",
            "3609/3609 [==============================] - 14s 4ms/step - loss: 0.6668 - accuracy: 0.5933\n",
            "Epoch 11/100\n",
            "3609/3609 [==============================] - 13s 4ms/step - loss: 0.6669 - accuracy: 0.5924\n",
            "Epoch 12/100\n",
            "3609/3609 [==============================] - 14s 4ms/step - loss: 0.6669 - accuracy: 0.5935\n",
            "Epoch 13/100\n",
            "3609/3609 [==============================] - 13s 4ms/step - loss: 0.6665 - accuracy: 0.5931\n",
            "Epoch 14/100\n",
            "3609/3609 [==============================] - 14s 4ms/step - loss: 0.6662 - accuracy: 0.5956\n",
            "Epoch 15/100\n",
            "3609/3609 [==============================] - 14s 4ms/step - loss: 0.6657 - accuracy: 0.5956\n",
            "Epoch 16/100\n",
            "3609/3609 [==============================] - 14s 4ms/step - loss: 0.6659 - accuracy: 0.5958\n",
            "Epoch 17/100\n",
            "3609/3609 [==============================] - 14s 4ms/step - loss: 0.6652 - accuracy: 0.5956\n",
            "Epoch 18/100\n",
            "3609/3609 [==============================] - 14s 4ms/step - loss: 0.6649 - accuracy: 0.5968\n",
            "Epoch 19/100\n",
            "3609/3609 [==============================] - 14s 4ms/step - loss: 0.6648 - accuracy: 0.5966\n",
            "Epoch 20/100\n",
            "3609/3609 [==============================] - 14s 4ms/step - loss: 0.6645 - accuracy: 0.5966\n",
            "Epoch 21/100\n",
            "3609/3609 [==============================] - 14s 4ms/step - loss: 0.6642 - accuracy: 0.5971\n",
            "Epoch 22/100\n",
            "3609/3609 [==============================] - 14s 4ms/step - loss: 0.6644 - accuracy: 0.5974\n",
            "Epoch 23/100\n",
            "3609/3609 [==============================] - 14s 4ms/step - loss: 0.6642 - accuracy: 0.5981\n",
            "Epoch 24/100\n",
            "3609/3609 [==============================] - 13s 4ms/step - loss: 0.6641 - accuracy: 0.5982\n",
            "Epoch 25/100\n",
            "3609/3609 [==============================] - 14s 4ms/step - loss: 0.6641 - accuracy: 0.5980\n",
            "Epoch 26/100\n",
            "3609/3609 [==============================] - 13s 4ms/step - loss: 0.6636 - accuracy: 0.5979\n",
            "Epoch 27/100\n",
            "3609/3609 [==============================] - 13s 4ms/step - loss: 0.6635 - accuracy: 0.5989\n",
            "Epoch 28/100\n",
            "3609/3609 [==============================] - 17s 5ms/step - loss: 0.6637 - accuracy: 0.5988\n",
            "Epoch 29/100\n",
            "3609/3609 [==============================] - 13s 4ms/step - loss: 0.6633 - accuracy: 0.5991\n",
            "Epoch 30/100\n",
            "3609/3609 [==============================] - 13s 4ms/step - loss: 0.6634 - accuracy: 0.5983\n",
            "Epoch 31/100\n",
            "3609/3609 [==============================] - 13s 4ms/step - loss: 0.6628 - accuracy: 0.6005\n",
            "Epoch 32/100\n",
            "3609/3609 [==============================] - 12s 3ms/step - loss: 0.6628 - accuracy: 0.6003\n",
            "Epoch 33/100\n",
            "3609/3609 [==============================] - 13s 4ms/step - loss: 0.6621 - accuracy: 0.6006\n",
            "Epoch 34/100\n",
            "3609/3609 [==============================] - 13s 4ms/step - loss: 0.6629 - accuracy: 0.5997\n",
            "Epoch 35/100\n",
            "3609/3609 [==============================] - 13s 4ms/step - loss: 0.6625 - accuracy: 0.6003\n",
            "Epoch 36/100\n",
            "3609/3609 [==============================] - 13s 4ms/step - loss: 0.6625 - accuracy: 0.5996\n",
            "Epoch 37/100\n",
            "3609/3609 [==============================] - 13s 4ms/step - loss: 0.6620 - accuracy: 0.6003\n",
            "Epoch 38/100\n",
            "3609/3609 [==============================] - 13s 4ms/step - loss: 0.6621 - accuracy: 0.6010\n",
            "Epoch 39/100\n",
            "3609/3609 [==============================] - 13s 4ms/step - loss: 0.6616 - accuracy: 0.6013\n",
            "Epoch 40/100\n",
            "3609/3609 [==============================] - 13s 4ms/step - loss: 0.6615 - accuracy: 0.6015\n",
            "Epoch 41/100\n",
            "3609/3609 [==============================] - 12s 3ms/step - loss: 0.6614 - accuracy: 0.6009\n",
            "Epoch 42/100\n",
            "3609/3609 [==============================] - 13s 4ms/step - loss: 0.6618 - accuracy: 0.6028\n",
            "Epoch 43/100\n",
            "3609/3609 [==============================] - 13s 3ms/step - loss: 0.6613 - accuracy: 0.6018\n",
            "Epoch 44/100\n",
            "3609/3609 [==============================] - 13s 4ms/step - loss: 0.6611 - accuracy: 0.6021\n",
            "Epoch 45/100\n",
            "3609/3609 [==============================] - 13s 3ms/step - loss: 0.6612 - accuracy: 0.6030\n",
            "Epoch 46/100\n",
            "3609/3609 [==============================] - 13s 4ms/step - loss: 0.6614 - accuracy: 0.6029\n",
            "Epoch 47/100\n",
            "3609/3609 [==============================] - 13s 4ms/step - loss: 0.6612 - accuracy: 0.6031\n",
            "Epoch 48/100\n",
            "3609/3609 [==============================] - 13s 4ms/step - loss: 0.6613 - accuracy: 0.6037\n",
            "Epoch 49/100\n",
            "3609/3609 [==============================] - 13s 4ms/step - loss: 0.6607 - accuracy: 0.6034\n",
            "Epoch 50/100\n",
            "3609/3609 [==============================] - 13s 4ms/step - loss: 0.6608 - accuracy: 0.6045\n",
            "Epoch 51/100\n",
            "3609/3609 [==============================] - 13s 3ms/step - loss: 0.6607 - accuracy: 0.6037\n",
            "Epoch 52/100\n",
            "3609/3609 [==============================] - 13s 4ms/step - loss: 0.6607 - accuracy: 0.6039\n",
            "Epoch 53/100\n",
            "3609/3609 [==============================] - 13s 4ms/step - loss: 0.6603 - accuracy: 0.6037\n",
            "Epoch 54/100\n",
            "3609/3609 [==============================] - 13s 4ms/step - loss: 0.6606 - accuracy: 0.6043\n",
            "Epoch 55/100\n",
            "3609/3609 [==============================] - 13s 4ms/step - loss: 0.6606 - accuracy: 0.6038\n",
            "Epoch 56/100\n",
            "3609/3609 [==============================] - 13s 4ms/step - loss: 0.6604 - accuracy: 0.6052\n",
            "Epoch 57/100\n",
            "3609/3609 [==============================] - 13s 4ms/step - loss: 0.6601 - accuracy: 0.6044\n",
            "Epoch 58/100\n",
            "3609/3609 [==============================] - 12s 3ms/step - loss: 0.6602 - accuracy: 0.6046\n",
            "Epoch 59/100\n",
            "3609/3609 [==============================] - 13s 3ms/step - loss: 0.6603 - accuracy: 0.6044\n",
            "Epoch 60/100\n",
            "3609/3609 [==============================] - 13s 3ms/step - loss: 0.6606 - accuracy: 0.6031\n",
            "Epoch 61/100\n",
            "3609/3609 [==============================] - 13s 4ms/step - loss: 0.6597 - accuracy: 0.6062\n",
            "Epoch 62/100\n",
            "3609/3609 [==============================] - 13s 3ms/step - loss: 0.6599 - accuracy: 0.6056\n",
            "Epoch 63/100\n",
            "3609/3609 [==============================] - 13s 3ms/step - loss: 0.6598 - accuracy: 0.6053\n",
            "Epoch 64/100\n",
            "3609/3609 [==============================] - 13s 4ms/step - loss: 0.6600 - accuracy: 0.6052\n",
            "Epoch 65/100\n",
            "3609/3609 [==============================] - 12s 3ms/step - loss: 0.6597 - accuracy: 0.6049\n",
            "Epoch 66/100\n",
            "3609/3609 [==============================] - 13s 4ms/step - loss: 0.6594 - accuracy: 0.6048\n",
            "Epoch 67/100\n",
            "3609/3609 [==============================] - 13s 4ms/step - loss: 0.6599 - accuracy: 0.6051\n",
            "Epoch 68/100\n",
            "3609/3609 [==============================] - 13s 4ms/step - loss: 0.6596 - accuracy: 0.6061\n",
            "Epoch 69/100\n",
            "3609/3609 [==============================] - 13s 4ms/step - loss: 0.6595 - accuracy: 0.6059\n",
            "Epoch 70/100\n",
            "3609/3609 [==============================] - 12s 3ms/step - loss: 0.6591 - accuracy: 0.6059\n",
            "Epoch 71/100\n",
            "3609/3609 [==============================] - 13s 4ms/step - loss: 0.6595 - accuracy: 0.6067\n",
            "Epoch 72/100\n",
            "3609/3609 [==============================] - 13s 4ms/step - loss: 0.6594 - accuracy: 0.6056\n",
            "Epoch 73/100\n",
            "3609/3609 [==============================] - 13s 4ms/step - loss: 0.6599 - accuracy: 0.6053\n",
            "Epoch 74/100\n",
            "3609/3609 [==============================] - 13s 4ms/step - loss: 0.6595 - accuracy: 0.6049\n",
            "Epoch 75/100\n",
            "3609/3609 [==============================] - 13s 4ms/step - loss: 0.6598 - accuracy: 0.6050\n",
            "Epoch 76/100\n",
            "3609/3609 [==============================] - 13s 4ms/step - loss: 0.6597 - accuracy: 0.6055\n",
            "Epoch 77/100\n",
            "3609/3609 [==============================] - 13s 4ms/step - loss: 0.6594 - accuracy: 0.6060\n",
            "Epoch 78/100\n",
            "3609/3609 [==============================] - 13s 4ms/step - loss: 0.6592 - accuracy: 0.6059\n",
            "Epoch 79/100\n",
            "3609/3609 [==============================] - 13s 4ms/step - loss: 0.6593 - accuracy: 0.6071\n",
            "Epoch 80/100\n",
            "3609/3609 [==============================] - 13s 4ms/step - loss: 0.6592 - accuracy: 0.6063\n",
            "Epoch 81/100\n",
            "3609/3609 [==============================] - 13s 4ms/step - loss: 0.6595 - accuracy: 0.6069\n",
            "Epoch 82/100\n",
            "3609/3609 [==============================] - 13s 4ms/step - loss: 0.6591 - accuracy: 0.6060\n",
            "Epoch 83/100\n",
            "3609/3609 [==============================] - 13s 4ms/step - loss: 0.6587 - accuracy: 0.6072\n",
            "Epoch 84/100\n",
            "3609/3609 [==============================] - 13s 4ms/step - loss: 0.6596 - accuracy: 0.6060\n",
            "Epoch 85/100\n",
            "3609/3609 [==============================] - 13s 4ms/step - loss: 0.6591 - accuracy: 0.6066\n",
            "Epoch 86/100\n",
            "3609/3609 [==============================] - 13s 4ms/step - loss: 0.6588 - accuracy: 0.6067\n",
            "Epoch 87/100\n",
            "3609/3609 [==============================] - 13s 4ms/step - loss: 0.6593 - accuracy: 0.6060\n",
            "Epoch 88/100\n",
            "3609/3609 [==============================] - 13s 4ms/step - loss: 0.6588 - accuracy: 0.6080\n",
            "Epoch 89/100\n",
            "3609/3609 [==============================] - 13s 4ms/step - loss: 0.6590 - accuracy: 0.6061\n",
            "Epoch 90/100\n",
            "3609/3609 [==============================] - 13s 4ms/step - loss: 0.6588 - accuracy: 0.6065\n",
            "Epoch 91/100\n",
            "3609/3609 [==============================] - 13s 4ms/step - loss: 0.6591 - accuracy: 0.6060\n",
            "Epoch 92/100\n",
            "3609/3609 [==============================] - 13s 4ms/step - loss: 0.6590 - accuracy: 0.6068\n",
            "Epoch 93/100\n",
            "3609/3609 [==============================] - 13s 4ms/step - loss: 0.6592 - accuracy: 0.6063\n",
            "Epoch 94/100\n",
            "3609/3609 [==============================] - 13s 4ms/step - loss: 0.6588 - accuracy: 0.6078\n",
            "Epoch 95/100\n",
            "3609/3609 [==============================] - 13s 4ms/step - loss: 0.6588 - accuracy: 0.6078\n",
            "Epoch 96/100\n",
            "3609/3609 [==============================] - 13s 4ms/step - loss: 0.6582 - accuracy: 0.6071\n",
            "Epoch 97/100\n",
            "3609/3609 [==============================] - 13s 4ms/step - loss: 0.6587 - accuracy: 0.6073\n",
            "Epoch 98/100\n",
            "3609/3609 [==============================] - 13s 4ms/step - loss: 0.6592 - accuracy: 0.6081\n",
            "Epoch 99/100\n",
            "3609/3609 [==============================] - 13s 4ms/step - loss: 0.6584 - accuracy: 0.6087\n",
            "Epoch 100/100\n",
            "3609/3609 [==============================] - 13s 4ms/step - loss: 0.6586 - accuracy: 0.6081\n"
          ]
        },
        {
          "output_type": "execute_result",
          "data": {
            "text/plain": [
              "<keras.callbacks.History at 0x7fd9b11f4c70>"
            ]
          },
          "metadata": {},
          "execution_count": 16
        }
      ]
    },
    {
      "cell_type": "code",
      "source": [],
      "metadata": {
        "id": "NUCo3oEBGYDr"
      },
      "id": "NUCo3oEBGYDr",
      "execution_count": null,
      "outputs": []
    },
    {
      "cell_type": "code",
      "source": [
        "X_train_scaled.shape"
      ],
      "metadata": {
        "colab": {
          "base_uri": "https://localhost:8080/",
          "height": 169
        },
        "id": "_BoQ5w9TIxdD",
        "outputId": "f2f410b0-2a50-40ff-e8bf-0b7b00465610"
      },
      "id": "_BoQ5w9TIxdD",
      "execution_count": null,
      "outputs": [
        {
          "output_type": "error",
          "ename": "NameError",
          "evalue": "ignored",
          "traceback": [
            "\u001b[0;31m---------------------------------------------------------------------------\u001b[0m",
            "\u001b[0;31mNameError\u001b[0m                                 Traceback (most recent call last)",
            "\u001b[0;32m<ipython-input-1-1c5971241598>\u001b[0m in \u001b[0;36m<cell line: 1>\u001b[0;34m()\u001b[0m\n\u001b[0;32m----> 1\u001b[0;31m \u001b[0mX_train_scaled\u001b[0m\u001b[0;34m.\u001b[0m\u001b[0mshape\u001b[0m\u001b[0;34m\u001b[0m\u001b[0;34m\u001b[0m\u001b[0m\n\u001b[0m",
            "\u001b[0;31mNameError\u001b[0m: name 'X_train_scaled' is not defined"
          ]
        }
      ]
    },
    {
      "cell_type": "code",
      "source": [
        "y_train.shape"
      ],
      "metadata": {
        "id": "y0qRtLm6Ixjn"
      },
      "id": "y0qRtLm6Ixjn",
      "execution_count": null,
      "outputs": []
    },
    {
      "cell_type": "code",
      "source": [
        "from tensorflow.python import train\n",
        "\n",
        "for id in data['session_id'].unique()\n",
        "if ID in row \n",
        "  fit xtrain, ytrain\n",
        "  Xtest[preds] predict xtest \n"
      ],
      "metadata": {
        "id": "vVBEX4xiSqHM"
      },
      "id": "vVBEX4xiSqHM",
      "execution_count": null,
      "outputs": []
    }
  ],
  "metadata": {
    "colab": {
      "provenance": [],
      "include_colab_link": true
    },
    "language_info": {
      "name": "python"
    },
    "kernelspec": {
      "name": "python3",
      "display_name": "Python 3"
    },
    "gpuClass": "standard"
  },
  "nbformat": 4,
  "nbformat_minor": 5
}