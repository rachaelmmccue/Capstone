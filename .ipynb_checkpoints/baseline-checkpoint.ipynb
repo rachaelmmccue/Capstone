{
 "cells": [
  {
   "cell_type": "markdown",
   "id": "e39ee628",
   "metadata": {},
   "source": [
    "## Baseline\n",
    "\n",
    "This notebook explores important features with Decision Tree and uses LogReg as a baseline model"
   ]
  },
  {
   "cell_type": "code",
   "execution_count": 19,
   "id": "3efce86c",
   "metadata": {},
   "outputs": [],
   "source": [
    "import pandas as pd\n",
    "import numpy as np\n",
    "from sklearn.tree import DecisionTreeClassifier\n",
    "from sklearn.model_selection import train_test_split, GridSearchCV\n",
    "from sklearn.metrics import ConfusionMatrixDisplay, confusion_matrix, precision_score\n",
    "from sklearn.metrics import log_loss\n",
    "from sklearn.linear_model import LogisticRegression\n",
    "\n",
    "\n",
    "# Manual Train test split -- splits session ID in .70 of the session for train and .3 of the session for test.\n",
    "#Returns a train dataframe and a test\n",
    "from src.train_test_split_df import *"
   ]
  },
  {
   "cell_type": "code",
   "execution_count": 2,
   "id": "18806451",
   "metadata": {},
   "outputs": [],
   "source": [
    "df = pd.read_csv('data/tracks_session_clean.csv', index_col=0)"
   ]
  },
  {
   "cell_type": "code",
   "execution_count": 3,
   "id": "05d96407",
   "metadata": {},
   "outputs": [
    {
     "name": "stdout",
     "output_type": "stream",
     "text": [
      "<class 'pandas.core.frame.DataFrame'>\n",
      "Int64Index: 167880 entries, 0 to 167879\n",
      "Data columns (total 48 columns):\n",
      " #   Column                           Non-Null Count   Dtype  \n",
      "---  ------                           --------------   -----  \n",
      " 0   session_id                       167880 non-null  object \n",
      " 1   session_position                 167880 non-null  int64  \n",
      " 2   session_length                   167880 non-null  int64  \n",
      " 3   date                             167880 non-null  object \n",
      " 4   EarlyAM                          167880 non-null  int64  \n",
      " 5   Evening                          167880 non-null  int64  \n",
      " 6   LateAMEarlyPM                    167880 non-null  int64  \n",
      " 7   LatePM                           167880 non-null  int64  \n",
      " 8   Night                            167880 non-null  int64  \n",
      " 9   track_id                         167880 non-null  object \n",
      " 10  skipped                          167880 non-null  int64  \n",
      " 11  hist_seekfwd                     167880 non-null  int64  \n",
      " 12  hist_seekback                    167880 non-null  int64  \n",
      " 13  hist_shuffle                     167880 non-null  int64  \n",
      " 14  premium                          167880 non-null  int64  \n",
      " 15  hist_user_behavior_reason_start  167880 non-null  object \n",
      " 16  pause_before_play                167880 non-null  int64  \n",
      " 17  catalog                          167880 non-null  int64  \n",
      " 18  charts                           167880 non-null  int64  \n",
      " 19  editorial_playlist               167880 non-null  int64  \n",
      " 20  personalized_playlist            167880 non-null  int64  \n",
      " 21  radio                            167880 non-null  int64  \n",
      " 22  user_collection                  167880 non-null  int64  \n",
      " 23  duration                         167880 non-null  float64\n",
      " 24  release_year                     167880 non-null  int64  \n",
      " 25  popularity                       167880 non-null  float64\n",
      " 26  acousticness                     167880 non-null  float64\n",
      " 27  beat_strength                    167880 non-null  float64\n",
      " 28  danceability                     167880 non-null  float64\n",
      " 29  dyn_range_mean                   167880 non-null  float64\n",
      " 30  energy                           167880 non-null  float64\n",
      " 31  flatness                         167880 non-null  float64\n",
      " 32  instrumentalness                 167880 non-null  float64\n",
      " 33  key                              167880 non-null  int64  \n",
      " 34  loudness                         167880 non-null  float64\n",
      " 35  organism                         167880 non-null  float64\n",
      " 36  speechiness                      167880 non-null  float64\n",
      " 37  tempo                            167880 non-null  float64\n",
      " 38  time_signature                   167880 non-null  int64  \n",
      " 39  valence                          167880 non-null  float64\n",
      " 40  acoustic_vector_0                167880 non-null  float64\n",
      " 41  acoustic_vector_1                167880 non-null  float64\n",
      " 42  acoustic_vector_2                167880 non-null  float64\n",
      " 43  acoustic_vector_3                167880 non-null  float64\n",
      " 44  acoustic_vector_4                167880 non-null  float64\n",
      " 45  acoustic_vector_5                167880 non-null  float64\n",
      " 46  acoustic_vector_6                167880 non-null  float64\n",
      " 47  acoustic_vector_7                167880 non-null  float64\n",
      "dtypes: float64(22), int64(22), object(4)\n",
      "memory usage: 62.8+ MB\n"
     ]
    }
   ],
   "source": [
    "df.info()"
   ]
  },
  {
   "cell_type": "code",
   "execution_count": 4,
   "id": "79ce683a",
   "metadata": {},
   "outputs": [],
   "source": [
    "drop_col = ['session_id', 'session_length', 'date', 'track_id', 'hist_user_behavior_reason_start', 'beat_strength', 'dyn_range_mean']\n",
    "def drop(df):\n",
    "    df = df.drop(labels=drop_col, axis=1)\n",
    "    return df"
   ]
  },
  {
   "cell_type": "markdown",
   "id": "6bb54ee1",
   "metadata": {},
   "source": [
    "### Decision Tree"
   ]
  },
  {
   "cell_type": "code",
   "execution_count": 5,
   "id": "b61b095d",
   "metadata": {},
   "outputs": [],
   "source": [
    "Train, test = train_test_split_df(df)"
   ]
  },
  {
   "cell_type": "code",
   "execution_count": 6,
   "id": "aa17c6ef",
   "metadata": {},
   "outputs": [],
   "source": [
    "Train = drop(Train)\n",
    "Test = drop(test)"
   ]
  },
  {
   "cell_type": "code",
   "execution_count": 7,
   "id": "8065e3fb",
   "metadata": {},
   "outputs": [],
   "source": [
    "X_train = Train.drop('skipped', axis=1)\n",
    "X_test = Test.drop('skipped', axis=1)\n",
    "y_train = Train['skipped']\n",
    "y_test = Test['skipped']"
   ]
  },
  {
   "cell_type": "code",
   "execution_count": 8,
   "id": "d4d4de9d",
   "metadata": {},
   "outputs": [],
   "source": [
    "dt = DecisionTreeClassifier()"
   ]
  },
  {
   "cell_type": "code",
   "execution_count": 9,
   "id": "fbceed81",
   "metadata": {},
   "outputs": [
    {
     "data": {
      "text/plain": [
       "GridSearchCV(estimator=DecisionTreeClassifier(),\n",
       "             param_grid={'max_depth': range(2, 11),\n",
       "                         'min_samples_split': range(2, 5)})"
      ]
     },
     "execution_count": 9,
     "metadata": {},
     "output_type": "execute_result"
    }
   ],
   "source": [
    "param_grid = {'max_depth': range(2, 11),\n",
    "             'min_samples_split': range(2,5)\n",
    "             }\n",
    "gs = GridSearchCV(dt, param_grid)\n",
    "gs.fit(X_train, y_train)"
   ]
  },
  {
   "cell_type": "code",
   "execution_count": 11,
   "id": "e8917bdb",
   "metadata": {},
   "outputs": [
    {
     "data": {
      "text/plain": [
       "{'max_depth': 8, 'min_samples_split': 2}"
      ]
     },
     "execution_count": 11,
     "metadata": {},
     "output_type": "execute_result"
    }
   ],
   "source": [
    "gs.best_params_"
   ]
  },
  {
   "cell_type": "code",
   "execution_count": 12,
   "id": "2e4741ca",
   "metadata": {},
   "outputs": [],
   "source": [
    "dt = DecisionTreeClassifier(max_depth=8)"
   ]
  },
  {
   "cell_type": "code",
   "execution_count": 14,
   "id": "8ef5acb4",
   "metadata": {},
   "outputs": [
    {
     "data": {
      "text/plain": [
       "0.5417779473483403"
      ]
     },
     "execution_count": 14,
     "metadata": {},
     "output_type": "execute_result"
    }
   ],
   "source": [
    "dt.fit(X_train, y_train)\n",
    "dt.score(X_test, y_test)"
   ]
  },
  {
   "cell_type": "code",
   "execution_count": 16,
   "id": "59e6b6c7",
   "metadata": {},
   "outputs": [
    {
     "data": {
      "text/html": [
       "<div>\n",
       "<style scoped>\n",
       "    .dataframe tbody tr th:only-of-type {\n",
       "        vertical-align: middle;\n",
       "    }\n",
       "\n",
       "    .dataframe tbody tr th {\n",
       "        vertical-align: top;\n",
       "    }\n",
       "\n",
       "    .dataframe thead th {\n",
       "        text-align: right;\n",
       "    }\n",
       "</style>\n",
       "<table border=\"1\" class=\"dataframe\">\n",
       "  <thead>\n",
       "    <tr style=\"text-align: right;\">\n",
       "      <th></th>\n",
       "      <th>Important</th>\n",
       "    </tr>\n",
       "  </thead>\n",
       "  <tbody>\n",
       "    <tr>\n",
       "      <th>pause_before_play</th>\n",
       "      <td>0.272000</td>\n",
       "    </tr>\n",
       "    <tr>\n",
       "      <th>catalog</th>\n",
       "      <td>0.077645</td>\n",
       "    </tr>\n",
       "    <tr>\n",
       "      <th>session_position</th>\n",
       "      <td>0.066275</td>\n",
       "    </tr>\n",
       "    <tr>\n",
       "      <th>hist_seekback</th>\n",
       "      <td>0.064489</td>\n",
       "    </tr>\n",
       "    <tr>\n",
       "      <th>hist_shuffle</th>\n",
       "      <td>0.058512</td>\n",
       "    </tr>\n",
       "    <tr>\n",
       "      <th>premium</th>\n",
       "      <td>0.041026</td>\n",
       "    </tr>\n",
       "    <tr>\n",
       "      <th>duration</th>\n",
       "      <td>0.035954</td>\n",
       "    </tr>\n",
       "    <tr>\n",
       "      <th>hist_seekfwd</th>\n",
       "      <td>0.035128</td>\n",
       "    </tr>\n",
       "    <tr>\n",
       "      <th>radio</th>\n",
       "      <td>0.032601</td>\n",
       "    </tr>\n",
       "    <tr>\n",
       "      <th>acoustic_vector_0</th>\n",
       "      <td>0.031448</td>\n",
       "    </tr>\n",
       "    <tr>\n",
       "      <th>popularity</th>\n",
       "      <td>0.030664</td>\n",
       "    </tr>\n",
       "    <tr>\n",
       "      <th>editorial_playlist</th>\n",
       "      <td>0.024578</td>\n",
       "    </tr>\n",
       "    <tr>\n",
       "      <th>instrumentalness</th>\n",
       "      <td>0.022568</td>\n",
       "    </tr>\n",
       "    <tr>\n",
       "      <th>acoustic_vector_6</th>\n",
       "      <td>0.019789</td>\n",
       "    </tr>\n",
       "    <tr>\n",
       "      <th>release_year</th>\n",
       "      <td>0.019631</td>\n",
       "    </tr>\n",
       "  </tbody>\n",
       "</table>\n",
       "</div>"
      ],
      "text/plain": [
       "                    Important\n",
       "pause_before_play    0.272000\n",
       "catalog              0.077645\n",
       "session_position     0.066275\n",
       "hist_seekback        0.064489\n",
       "hist_shuffle         0.058512\n",
       "premium              0.041026\n",
       "duration             0.035954\n",
       "hist_seekfwd         0.035128\n",
       "radio                0.032601\n",
       "acoustic_vector_0    0.031448\n",
       "popularity           0.030664\n",
       "editorial_playlist   0.024578\n",
       "instrumentalness     0.022568\n",
       "acoustic_vector_6    0.019789\n",
       "release_year         0.019631"
      ]
     },
     "execution_count": 16,
     "metadata": {},
     "output_type": "execute_result"
    }
   ],
   "source": [
    "features=X_train.columns.tolist()\n",
    "important = dt.feature_importances_\n",
    "important_features = pd.DataFrame(important, index=features, columns=['Important'])\n",
    "important_features.sort_values('Important', ascending=False).head(15)"
   ]
  },
  {
   "cell_type": "code",
   "execution_count": 17,
   "id": "cba05f59",
   "metadata": {},
   "outputs": [],
   "source": [
    "preds= dt.predict(X_test)"
   ]
  },
  {
   "cell_type": "code",
   "execution_count": 18,
   "id": "cb98ed12",
   "metadata": {},
   "outputs": [
    {
     "data": {
      "text/plain": [
       "<sklearn.metrics._plot.confusion_matrix.ConfusionMatrixDisplay at 0x7fbaea810e20>"
      ]
     },
     "execution_count": 18,
     "metadata": {},
     "output_type": "execute_result"
    },
    {
     "data": {
      "image/png": "[encoded data removed]",
      "text/plain": [
       "<Figure size 640x480 with 2 Axes>"
      ]
     },
     "metadata": {},
     "output_type": "display_data"
    }
   ],
   "source": [
    "cm = confusion_matrix(y_test, preds)\n",
    "ConfusionMatrixDisplay(cm).plot()"
   ]
  },
  {
   "cell_type": "code",
   "execution_count": 20,
   "id": "e14b9b93",
   "metadata": {},
   "outputs": [
    {
     "data": {
      "text/plain": [
       "0.5265132440326317"
      ]
     },
     "execution_count": 20,
     "metadata": {},
     "output_type": "execute_result"
    }
   ],
   "source": [
    "precision_score(y_test, preds)"
   ]
  },
  {
   "cell_type": "markdown",
   "id": "824f37e5",
   "metadata": {},
   "source": [
    "Important features causing skips:\n",
    "\n",
    "- pause_before_play\t\n",
    "- catalog\t\n",
    "- hist_seekback\t\n",
    "- radio\t\n",
    "- editorial_playlist\n",
    "- hist_shuffle\n",
    "- hist_seekfwd\n",
    "- session_position"
   ]
  },
  {
   "cell_type": "markdown",
   "id": "46b5635e",
   "metadata": {},
   "source": [
    "# Logistic Regression"
   ]
  },
  {
   "cell_type": "code",
   "execution_count": 21,
   "id": "9da9902f",
   "metadata": {},
   "outputs": [],
   "source": [
    "Train, test = train_test_split_df(df)"
   ]
  },
  {
   "cell_type": "code",
   "execution_count": null,
   "id": "fd449eba",
   "metadata": {},
   "outputs": [],
   "source": [
    "Train = drop(Train)\n",
    "Test = drop(test)"
   ]
  },
  {
   "cell_type": "code",
   "execution_count": 22,
   "id": "c5287ffd",
   "metadata": {},
   "outputs": [],
   "source": [
    "X_train = Train['pause_before_play'].array.reshape(-1, 1)\n",
    "X_test = Test['pause_before_play'].array.reshape(-1, 1)\n",
    "y_train = Train['skipped']\n",
    "y_test = Test['skipped']"
   ]
  },
  {
   "cell_type": "code",
   "execution_count": 23,
   "id": "5f831e3f",
   "metadata": {},
   "outputs": [],
   "source": [
    "logreg = LogisticRegression()"
   ]
  },
  {
   "cell_type": "code",
   "execution_count": 32,
   "id": "7cd37770",
   "metadata": {},
   "outputs": [],
   "source": [
    "param_grid = {'penalty': ['l2'],\n",
    "             'C': [.1, 10, 100, 1000, 10000],\n",
    "              'solver': ['liblinear', 'newton-cg'],\n",
    "             }\n",
    "gs = GridSearchCV(logreg, param_grid)"
   ]
  },
  {
   "cell_type": "code",
   "execution_count": 33,
   "id": "b24deed0",
   "metadata": {
    "collapsed": true
   },
   "outputs": [
    {
     "name": "stderr",
     "output_type": "stream",
     "text": [
      "/Users/RachaelMcCue/opt/anaconda3/lib/python3.9/site-packages/scipy/optimize/_linesearch.py:305: LineSearchWarning: The line search algorithm did not converge\n",
      "  warn('The line search algorithm did not converge', LineSearchWarning)\n",
      "/Users/RachaelMcCue/opt/anaconda3/lib/python3.9/site-packages/sklearn/utils/optimize.py:203: UserWarning: Line Search failed\n",
      "  warnings.warn(\"Line Search failed\")\n",
      "/Users/RachaelMcCue/opt/anaconda3/lib/python3.9/site-packages/scipy/optimize/_linesearch.py:305: LineSearchWarning: The line search algorithm did not converge\n",
      "  warn('The line search algorithm did not converge', LineSearchWarning)\n",
      "/Users/RachaelMcCue/opt/anaconda3/lib/python3.9/site-packages/sklearn/utils/optimize.py:203: UserWarning: Line Search failed\n",
      "  warnings.warn(\"Line Search failed\")\n",
      "/Users/RachaelMcCue/opt/anaconda3/lib/python3.9/site-packages/scipy/optimize/_linesearch.py:305: LineSearchWarning: The line search algorithm did not converge\n",
      "  warn('The line search algorithm did not converge', LineSearchWarning)\n",
      "/Users/RachaelMcCue/opt/anaconda3/lib/python3.9/site-packages/sklearn/utils/optimize.py:203: UserWarning: Line Search failed\n",
      "  warnings.warn(\"Line Search failed\")\n",
      "/Users/RachaelMcCue/opt/anaconda3/lib/python3.9/site-packages/scipy/optimize/_linesearch.py:305: LineSearchWarning: The line search algorithm did not converge\n",
      "  warn('The line search algorithm did not converge', LineSearchWarning)\n",
      "/Users/RachaelMcCue/opt/anaconda3/lib/python3.9/site-packages/sklearn/utils/optimize.py:203: UserWarning: Line Search failed\n",
      "  warnings.warn(\"Line Search failed\")\n",
      "/Users/RachaelMcCue/opt/anaconda3/lib/python3.9/site-packages/scipy/optimize/_linesearch.py:305: LineSearchWarning: The line search algorithm did not converge\n",
      "  warn('The line search algorithm did not converge', LineSearchWarning)\n",
      "/Users/RachaelMcCue/opt/anaconda3/lib/python3.9/site-packages/sklearn/utils/optimize.py:203: UserWarning: Line Search failed\n",
      "  warnings.warn(\"Line Search failed\")\n"
     ]
    },
    {
     "data": {
      "text/plain": [
       "GridSearchCV(estimator=LogisticRegression(),\n",
       "             param_grid={'C': [0.1, 10, 100, 1000, 10000], 'penalty': ['l2'],\n",
       "                         'solver': ['liblinear', 'newton-cg']})"
      ]
     },
     "execution_count": 33,
     "metadata": {},
     "output_type": "execute_result"
    }
   ],
   "source": [
    "gs.fit(X_train, y_train)"
   ]
  },
  {
   "cell_type": "code",
   "execution_count": 38,
   "id": "51801fba",
   "metadata": {},
   "outputs": [
    {
     "data": {
      "text/plain": [
       "{'C': 0.1, 'penalty': 'l2', 'solver': 'liblinear'}"
      ]
     },
     "execution_count": 38,
     "metadata": {},
     "output_type": "execute_result"
    }
   ],
   "source": [
    "gs.best_params_"
   ]
  },
  {
   "cell_type": "code",
   "execution_count": 40,
   "id": "26f39b6b",
   "metadata": {},
   "outputs": [],
   "source": [
    "logreg = LogisticRegression(penalty='l2', C=.1, solver='liblinear')"
   ]
  },
  {
   "cell_type": "code",
   "execution_count": 41,
   "id": "1fe8cfd8",
   "metadata": {},
   "outputs": [
    {
     "data": {
      "text/plain": [
       "LogisticRegression(C=0.1, solver='liblinear')"
      ]
     },
     "execution_count": 41,
     "metadata": {},
     "output_type": "execute_result"
    }
   ],
   "source": [
    "logreg.fit(X_train, y_train)"
   ]
  },
  {
   "cell_type": "code",
   "execution_count": 42,
   "id": "91034a66",
   "metadata": {},
   "outputs": [
    {
     "data": {
      "text/plain": [
       "0.5252575352918734"
      ]
     },
     "execution_count": 42,
     "metadata": {},
     "output_type": "execute_result"
    }
   ],
   "source": [
    "logreg.score(X_test, y_test)"
   ]
  },
  {
   "cell_type": "code",
   "execution_count": 43,
   "id": "ac1bd61e",
   "metadata": {},
   "outputs": [],
   "source": [
    "coef = logreg.coef_"
   ]
  },
  {
   "cell_type": "code",
   "execution_count": 46,
   "id": "c6d29a57",
   "metadata": {},
   "outputs": [
    {
     "data": {
      "text/plain": [
       "array([[1.76702666]])"
      ]
     },
     "execution_count": 46,
     "metadata": {},
     "output_type": "execute_result"
    }
   ],
   "source": [
    "odds = np.exp(coef)\n",
    "odds.astype(float)"
   ]
  },
  {
   "cell_type": "markdown",
   "id": "442d83f1",
   "metadata": {},
   "source": [
    "If there is a pause before playing, that improves the chance of skipping my 1.76 times. "
   ]
  },
  {
   "cell_type": "code",
   "execution_count": null,
   "id": "d9f537c4",
   "metadata": {},
   "outputs": [],
   "source": []
  },
  {
   "cell_type": "code",
   "execution_count": null,
   "id": "0906840a",
   "metadata": {},
   "outputs": [],
   "source": [
    "coefs = pd.DataFrame(zip(X_train.columns, np.transpose(logreg.coef_)), columns=['features', 'coef'])\n",
    "coefs['odds'] = [np.exp(x) for x in coefs['coef']]\n",
    "coefs"
   ]
  },
  {
   "cell_type": "code",
   "execution_count": null,
   "id": "f8552919",
   "metadata": {},
   "outputs": [],
   "source": [
    "log_loss(y_test, logreg.predict_proba(X_test_scaled))"
   ]
  },
  {
   "cell_type": "code",
   "execution_count": null,
   "id": "ee0c7a6c",
   "metadata": {},
   "outputs": [],
   "source": []
  }
 ],
 "metadata": {
  "kernelspec": {
   "display_name": "Python 3 (ipykernel)",
   "language": "python",
   "name": "python3"
  },
  "language_info": {
   "codemirror_mode": {
    "name": "ipython",
    "version": 3
   },
   "file_extension": ".py",
   "mimetype": "text/x-python",
   "name": "python",
   "nbconvert_exporter": "python",
   "pygments_lexer": "ipython3",
   "version": "3.9.13"
  }
 },
 "nbformat": 4,
 "nbformat_minor": 5
}
