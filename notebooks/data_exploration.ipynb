{
 "cells": [
  {
   "cell_type": "markdown",
   "id": "06859165",
   "metadata": {},
   "source": [
    "# Data Exploration, Cleaning, Analysis\n",
    "\n",
    "This notebook is used for the initial data exploration and analysis. \n",
    "\n",
    "The data consists of two CSVs:\n",
    "- Track IDs and track information\n",
    "- Session IDs and user behavior information\n",
    "\n",
    "After the analysis, a cleaned, merged DataFrame containing all of the above information was converted to a CSV to use for future modeling. "
   ]
  },
  {
   "cell_type": "markdown",
   "id": "5074b1ee",
   "metadata": {},
   "source": [
    "#### Import necessary libraries"
   ]
  },
  {
   "cell_type": "code",
   "execution_count": 1,
   "id": "aa6b898d",
   "metadata": {},
   "outputs": [],
   "source": [
    "import pandas as pd\n",
    "import seaborn\n",
    "import numpy as np\n",
    "import matplotlib.pyplot as plt"
   ]
  },
  {
   "cell_type": "markdown",
   "id": "e82a3baa",
   "metadata": {},
   "source": [
    "#### Read in the data"
   ]
  },
  {
   "cell_type": "code",
   "execution_count": 2,
   "id": "b0a85c8a",
   "metadata": {},
   "outputs": [],
   "source": [
    "data = pd.read_csv('../data/training_set/log_mini.csv')"
   ]
  },
  {
   "cell_type": "code",
   "execution_count": 3,
   "id": "7fc31f5b",
   "metadata": {},
   "outputs": [
    {
     "data": {
      "text/html": [
       "<div>\n",
       "<style scoped>\n",
       "    .dataframe tbody tr th:only-of-type {\n",
       "        vertical-align: middle;\n",
       "    }\n",
       "\n",
       "    .dataframe tbody tr th {\n",
       "        vertical-align: top;\n",
       "    }\n",
       "\n",
       "    .dataframe thead th {\n",
       "        text-align: right;\n",
       "    }\n",
       "</style>\n",
       "<table border=\"1\" class=\"dataframe\">\n",
       "  <thead>\n",
       "    <tr style=\"text-align: right;\">\n",
       "      <th></th>\n",
       "      <th>session_id</th>\n",
       "      <th>session_position</th>\n",
       "      <th>session_length</th>\n",
       "      <th>track_id_clean</th>\n",
       "      <th>skip_1</th>\n",
       "      <th>skip_2</th>\n",
       "      <th>skip_3</th>\n",
       "      <th>not_skipped</th>\n",
       "      <th>context_switch</th>\n",
       "      <th>no_pause_before_play</th>\n",
       "      <th>...</th>\n",
       "      <th>long_pause_before_play</th>\n",
       "      <th>hist_user_behavior_n_seekfwd</th>\n",
       "      <th>hist_user_behavior_n_seekback</th>\n",
       "      <th>hist_user_behavior_is_shuffle</th>\n",
       "      <th>hour_of_day</th>\n",
       "      <th>date</th>\n",
       "      <th>premium</th>\n",
       "      <th>context_type</th>\n",
       "      <th>hist_user_behavior_reason_start</th>\n",
       "      <th>hist_user_behavior_reason_end</th>\n",
       "    </tr>\n",
       "  </thead>\n",
       "  <tbody>\n",
       "    <tr>\n",
       "      <th>0</th>\n",
       "      <td>0_00006f66-33e5-4de7-a324-2d18e439fc1e</td>\n",
       "      <td>1</td>\n",
       "      <td>20</td>\n",
       "      <td>t_0479f24c-27d2-46d6-a00c-7ec928f2b539</td>\n",
       "      <td>False</td>\n",
       "      <td>False</td>\n",
       "      <td>False</td>\n",
       "      <td>True</td>\n",
       "      <td>0</td>\n",
       "      <td>0</td>\n",
       "      <td>...</td>\n",
       "      <td>0</td>\n",
       "      <td>0</td>\n",
       "      <td>0</td>\n",
       "      <td>True</td>\n",
       "      <td>16</td>\n",
       "      <td>2018-07-15</td>\n",
       "      <td>True</td>\n",
       "      <td>editorial_playlist</td>\n",
       "      <td>trackdone</td>\n",
       "      <td>trackdone</td>\n",
       "    </tr>\n",
       "    <tr>\n",
       "      <th>1</th>\n",
       "      <td>0_00006f66-33e5-4de7-a324-2d18e439fc1e</td>\n",
       "      <td>2</td>\n",
       "      <td>20</td>\n",
       "      <td>t_9099cd7b-c238-47b7-9381-f23f2c1d1043</td>\n",
       "      <td>False</td>\n",
       "      <td>False</td>\n",
       "      <td>False</td>\n",
       "      <td>True</td>\n",
       "      <td>0</td>\n",
       "      <td>1</td>\n",
       "      <td>...</td>\n",
       "      <td>0</td>\n",
       "      <td>0</td>\n",
       "      <td>0</td>\n",
       "      <td>True</td>\n",
       "      <td>16</td>\n",
       "      <td>2018-07-15</td>\n",
       "      <td>True</td>\n",
       "      <td>editorial_playlist</td>\n",
       "      <td>trackdone</td>\n",
       "      <td>trackdone</td>\n",
       "    </tr>\n",
       "    <tr>\n",
       "      <th>2</th>\n",
       "      <td>0_00006f66-33e5-4de7-a324-2d18e439fc1e</td>\n",
       "      <td>3</td>\n",
       "      <td>20</td>\n",
       "      <td>t_fc5df5ba-5396-49a7-8b29-35d0d28249e0</td>\n",
       "      <td>False</td>\n",
       "      <td>False</td>\n",
       "      <td>False</td>\n",
       "      <td>True</td>\n",
       "      <td>0</td>\n",
       "      <td>1</td>\n",
       "      <td>...</td>\n",
       "      <td>0</td>\n",
       "      <td>0</td>\n",
       "      <td>0</td>\n",
       "      <td>True</td>\n",
       "      <td>16</td>\n",
       "      <td>2018-07-15</td>\n",
       "      <td>True</td>\n",
       "      <td>editorial_playlist</td>\n",
       "      <td>trackdone</td>\n",
       "      <td>trackdone</td>\n",
       "    </tr>\n",
       "    <tr>\n",
       "      <th>3</th>\n",
       "      <td>0_00006f66-33e5-4de7-a324-2d18e439fc1e</td>\n",
       "      <td>4</td>\n",
       "      <td>20</td>\n",
       "      <td>t_23cff8d6-d874-4b20-83dc-94e450e8aa20</td>\n",
       "      <td>False</td>\n",
       "      <td>False</td>\n",
       "      <td>False</td>\n",
       "      <td>True</td>\n",
       "      <td>0</td>\n",
       "      <td>1</td>\n",
       "      <td>...</td>\n",
       "      <td>0</td>\n",
       "      <td>0</td>\n",
       "      <td>0</td>\n",
       "      <td>True</td>\n",
       "      <td>16</td>\n",
       "      <td>2018-07-15</td>\n",
       "      <td>True</td>\n",
       "      <td>editorial_playlist</td>\n",
       "      <td>trackdone</td>\n",
       "      <td>trackdone</td>\n",
       "    </tr>\n",
       "    <tr>\n",
       "      <th>4</th>\n",
       "      <td>0_00006f66-33e5-4de7-a324-2d18e439fc1e</td>\n",
       "      <td>5</td>\n",
       "      <td>20</td>\n",
       "      <td>t_64f3743c-f624-46bb-a579-0f3f9a07a123</td>\n",
       "      <td>False</td>\n",
       "      <td>False</td>\n",
       "      <td>False</td>\n",
       "      <td>True</td>\n",
       "      <td>0</td>\n",
       "      <td>1</td>\n",
       "      <td>...</td>\n",
       "      <td>0</td>\n",
       "      <td>0</td>\n",
       "      <td>0</td>\n",
       "      <td>True</td>\n",
       "      <td>16</td>\n",
       "      <td>2018-07-15</td>\n",
       "      <td>True</td>\n",
       "      <td>editorial_playlist</td>\n",
       "      <td>trackdone</td>\n",
       "      <td>trackdone</td>\n",
       "    </tr>\n",
       "  </tbody>\n",
       "</table>\n",
       "<p>5 rows × 21 columns</p>\n",
       "</div>"
      ],
      "text/plain": [
       "                               session_id  session_position  session_length  \\\n",
       "0  0_00006f66-33e5-4de7-a324-2d18e439fc1e                 1              20   \n",
       "1  0_00006f66-33e5-4de7-a324-2d18e439fc1e                 2              20   \n",
       "2  0_00006f66-33e5-4de7-a324-2d18e439fc1e                 3              20   \n",
       "3  0_00006f66-33e5-4de7-a324-2d18e439fc1e                 4              20   \n",
       "4  0_00006f66-33e5-4de7-a324-2d18e439fc1e                 5              20   \n",
       "\n",
       "                           track_id_clean  skip_1  skip_2  skip_3  \\\n",
       "0  t_0479f24c-27d2-46d6-a00c-7ec928f2b539   False   False   False   \n",
       "1  t_9099cd7b-c238-47b7-9381-f23f2c1d1043   False   False   False   \n",
       "2  t_fc5df5ba-5396-49a7-8b29-35d0d28249e0   False   False   False   \n",
       "3  t_23cff8d6-d874-4b20-83dc-94e450e8aa20   False   False   False   \n",
       "4  t_64f3743c-f624-46bb-a579-0f3f9a07a123   False   False   False   \n",
       "\n",
       "   not_skipped  context_switch  no_pause_before_play  ...  \\\n",
       "0         True               0                     0  ...   \n",
       "1         True               0                     1  ...   \n",
       "2         True               0                     1  ...   \n",
       "3         True               0                     1  ...   \n",
       "4         True               0                     1  ...   \n",
       "\n",
       "   long_pause_before_play  hist_user_behavior_n_seekfwd  \\\n",
       "0                       0                             0   \n",
       "1                       0                             0   \n",
       "2                       0                             0   \n",
       "3                       0                             0   \n",
       "4                       0                             0   \n",
       "\n",
       "   hist_user_behavior_n_seekback  hist_user_behavior_is_shuffle  hour_of_day  \\\n",
       "0                              0                           True           16   \n",
       "1                              0                           True           16   \n",
       "2                              0                           True           16   \n",
       "3                              0                           True           16   \n",
       "4                              0                           True           16   \n",
       "\n",
       "         date premium        context_type hist_user_behavior_reason_start  \\\n",
       "0  2018-07-15    True  editorial_playlist                       trackdone   \n",
       "1  2018-07-15    True  editorial_playlist                       trackdone   \n",
       "2  2018-07-15    True  editorial_playlist                       trackdone   \n",
       "3  2018-07-15    True  editorial_playlist                       trackdone   \n",
       "4  2018-07-15    True  editorial_playlist                       trackdone   \n",
       "\n",
       "  hist_user_behavior_reason_end  \n",
       "0                     trackdone  \n",
       "1                     trackdone  \n",
       "2                     trackdone  \n",
       "3                     trackdone  \n",
       "4                     trackdone  \n",
       "\n",
       "[5 rows x 21 columns]"
      ]
     },
     "execution_count": 3,
     "metadata": {},
     "output_type": "execute_result"
    }
   ],
   "source": [
    "data.head()"
   ]
  },
  {
   "cell_type": "code",
   "execution_count": 4,
   "id": "612e20f2",
   "metadata": {},
   "outputs": [
    {
     "name": "stdout",
     "output_type": "stream",
     "text": [
      "<class 'pandas.core.frame.DataFrame'>\n",
      "RangeIndex: 167880 entries, 0 to 167879\n",
      "Data columns (total 21 columns):\n",
      " #   Column                           Non-Null Count   Dtype \n",
      "---  ------                           --------------   ----- \n",
      " 0   session_id                       167880 non-null  object\n",
      " 1   session_position                 167880 non-null  int64 \n",
      " 2   session_length                   167880 non-null  int64 \n",
      " 3   track_id_clean                   167880 non-null  object\n",
      " 4   skip_1                           167880 non-null  bool  \n",
      " 5   skip_2                           167880 non-null  bool  \n",
      " 6   skip_3                           167880 non-null  bool  \n",
      " 7   not_skipped                      167880 non-null  bool  \n",
      " 8   context_switch                   167880 non-null  int64 \n",
      " 9   no_pause_before_play             167880 non-null  int64 \n",
      " 10  short_pause_before_play          167880 non-null  int64 \n",
      " 11  long_pause_before_play           167880 non-null  int64 \n",
      " 12  hist_user_behavior_n_seekfwd     167880 non-null  int64 \n",
      " 13  hist_user_behavior_n_seekback    167880 non-null  int64 \n",
      " 14  hist_user_behavior_is_shuffle    167880 non-null  bool  \n",
      " 15  hour_of_day                      167880 non-null  int64 \n",
      " 16  date                             167880 non-null  object\n",
      " 17  premium                          167880 non-null  bool  \n",
      " 18  context_type                     167880 non-null  object\n",
      " 19  hist_user_behavior_reason_start  167880 non-null  object\n",
      " 20  hist_user_behavior_reason_end    167880 non-null  object\n",
      "dtypes: bool(6), int64(9), object(6)\n",
      "memory usage: 20.2+ MB\n"
     ]
    }
   ],
   "source": [
    "data.info()"
   ]
  },
  {
   "cell_type": "code",
   "execution_count": 5,
   "id": "8c184c60",
   "metadata": {},
   "outputs": [],
   "source": [
    "tracks = pd.read_csv('../data/track_features/tf_mini.csv')"
   ]
  },
  {
   "cell_type": "code",
   "execution_count": 6,
   "id": "2d184f5b",
   "metadata": {},
   "outputs": [
    {
     "data": {
      "text/html": [
       "<div>\n",
       "<style scoped>\n",
       "    .dataframe tbody tr th:only-of-type {\n",
       "        vertical-align: middle;\n",
       "    }\n",
       "\n",
       "    .dataframe tbody tr th {\n",
       "        vertical-align: top;\n",
       "    }\n",
       "\n",
       "    .dataframe thead th {\n",
       "        text-align: right;\n",
       "    }\n",
       "</style>\n",
       "<table border=\"1\" class=\"dataframe\">\n",
       "  <thead>\n",
       "    <tr style=\"text-align: right;\">\n",
       "      <th></th>\n",
       "      <th>track_id</th>\n",
       "      <th>duration</th>\n",
       "      <th>release_year</th>\n",
       "      <th>us_popularity_estimate</th>\n",
       "      <th>acousticness</th>\n",
       "      <th>beat_strength</th>\n",
       "      <th>bounciness</th>\n",
       "      <th>danceability</th>\n",
       "      <th>dyn_range_mean</th>\n",
       "      <th>energy</th>\n",
       "      <th>...</th>\n",
       "      <th>time_signature</th>\n",
       "      <th>valence</th>\n",
       "      <th>acoustic_vector_0</th>\n",
       "      <th>acoustic_vector_1</th>\n",
       "      <th>acoustic_vector_2</th>\n",
       "      <th>acoustic_vector_3</th>\n",
       "      <th>acoustic_vector_4</th>\n",
       "      <th>acoustic_vector_5</th>\n",
       "      <th>acoustic_vector_6</th>\n",
       "      <th>acoustic_vector_7</th>\n",
       "    </tr>\n",
       "  </thead>\n",
       "  <tbody>\n",
       "    <tr>\n",
       "      <th>0</th>\n",
       "      <td>t_a540e552-16d4-42f8-a185-232bd650ea7d</td>\n",
       "      <td>109.706673</td>\n",
       "      <td>1950</td>\n",
       "      <td>99.975414</td>\n",
       "      <td>0.458040</td>\n",
       "      <td>0.519497</td>\n",
       "      <td>0.504949</td>\n",
       "      <td>0.399767</td>\n",
       "      <td>7.511880</td>\n",
       "      <td>0.817709</td>\n",
       "      <td>...</td>\n",
       "      <td>4</td>\n",
       "      <td>0.935512</td>\n",
       "      <td>-0.033284</td>\n",
       "      <td>-0.411896</td>\n",
       "      <td>-0.028580</td>\n",
       "      <td>0.349438</td>\n",
       "      <td>0.832467</td>\n",
       "      <td>-0.213871</td>\n",
       "      <td>-0.299464</td>\n",
       "      <td>-0.675907</td>\n",
       "    </tr>\n",
       "    <tr>\n",
       "      <th>1</th>\n",
       "      <td>t_67965da0-132b-4b1e-8a69-0ef99b32287c</td>\n",
       "      <td>187.693329</td>\n",
       "      <td>1950</td>\n",
       "      <td>99.969430</td>\n",
       "      <td>0.916272</td>\n",
       "      <td>0.419223</td>\n",
       "      <td>0.545530</td>\n",
       "      <td>0.491235</td>\n",
       "      <td>9.098376</td>\n",
       "      <td>0.154258</td>\n",
       "      <td>...</td>\n",
       "      <td>3</td>\n",
       "      <td>0.359675</td>\n",
       "      <td>0.145703</td>\n",
       "      <td>-0.850372</td>\n",
       "      <td>0.123860</td>\n",
       "      <td>0.746904</td>\n",
       "      <td>0.371803</td>\n",
       "      <td>-0.420558</td>\n",
       "      <td>-0.213120</td>\n",
       "      <td>-0.525795</td>\n",
       "    </tr>\n",
       "    <tr>\n",
       "      <th>2</th>\n",
       "      <td>t_0614ecd3-a7d5-40a1-816e-156d5872a467</td>\n",
       "      <td>160.839996</td>\n",
       "      <td>1951</td>\n",
       "      <td>99.602549</td>\n",
       "      <td>0.812884</td>\n",
       "      <td>0.425890</td>\n",
       "      <td>0.508280</td>\n",
       "      <td>0.491625</td>\n",
       "      <td>8.368670</td>\n",
       "      <td>0.358813</td>\n",
       "      <td>...</td>\n",
       "      <td>4</td>\n",
       "      <td>0.726769</td>\n",
       "      <td>0.021720</td>\n",
       "      <td>-0.743634</td>\n",
       "      <td>0.333247</td>\n",
       "      <td>0.568447</td>\n",
       "      <td>0.411094</td>\n",
       "      <td>-0.187749</td>\n",
       "      <td>-0.387599</td>\n",
       "      <td>-0.433496</td>\n",
       "    </tr>\n",
       "    <tr>\n",
       "      <th>3</th>\n",
       "      <td>t_070a63a0-744a-434e-9913-a97b02926a29</td>\n",
       "      <td>175.399994</td>\n",
       "      <td>1951</td>\n",
       "      <td>99.665018</td>\n",
       "      <td>0.396854</td>\n",
       "      <td>0.400934</td>\n",
       "      <td>0.359990</td>\n",
       "      <td>0.552227</td>\n",
       "      <td>5.967346</td>\n",
       "      <td>0.514585</td>\n",
       "      <td>...</td>\n",
       "      <td>4</td>\n",
       "      <td>0.859075</td>\n",
       "      <td>0.039143</td>\n",
       "      <td>-0.267555</td>\n",
       "      <td>-0.051825</td>\n",
       "      <td>0.106173</td>\n",
       "      <td>0.614825</td>\n",
       "      <td>-0.111419</td>\n",
       "      <td>-0.265953</td>\n",
       "      <td>-0.542753</td>\n",
       "    </tr>\n",
       "    <tr>\n",
       "      <th>4</th>\n",
       "      <td>t_d6990e17-9c31-4b01-8559-47d9ce476df1</td>\n",
       "      <td>369.600006</td>\n",
       "      <td>1951</td>\n",
       "      <td>99.991764</td>\n",
       "      <td>0.728831</td>\n",
       "      <td>0.371328</td>\n",
       "      <td>0.335115</td>\n",
       "      <td>0.483044</td>\n",
       "      <td>5.802681</td>\n",
       "      <td>0.721442</td>\n",
       "      <td>...</td>\n",
       "      <td>4</td>\n",
       "      <td>0.562343</td>\n",
       "      <td>0.131931</td>\n",
       "      <td>-0.292523</td>\n",
       "      <td>-0.174819</td>\n",
       "      <td>-0.034422</td>\n",
       "      <td>0.717229</td>\n",
       "      <td>-0.016239</td>\n",
       "      <td>-0.392694</td>\n",
       "      <td>-0.455496</td>\n",
       "    </tr>\n",
       "  </tbody>\n",
       "</table>\n",
       "<p>5 rows × 30 columns</p>\n",
       "</div>"
      ],
      "text/plain": [
       "                                 track_id    duration  release_year  \\\n",
       "0  t_a540e552-16d4-42f8-a185-232bd650ea7d  109.706673          1950   \n",
       "1  t_67965da0-132b-4b1e-8a69-0ef99b32287c  187.693329          1950   \n",
       "2  t_0614ecd3-a7d5-40a1-816e-156d5872a467  160.839996          1951   \n",
       "3  t_070a63a0-744a-434e-9913-a97b02926a29  175.399994          1951   \n",
       "4  t_d6990e17-9c31-4b01-8559-47d9ce476df1  369.600006          1951   \n",
       "\n",
       "   us_popularity_estimate  acousticness  beat_strength  bounciness  \\\n",
       "0               99.975414      0.458040       0.519497    0.504949   \n",
       "1               99.969430      0.916272       0.419223    0.545530   \n",
       "2               99.602549      0.812884       0.425890    0.508280   \n",
       "3               99.665018      0.396854       0.400934    0.359990   \n",
       "4               99.991764      0.728831       0.371328    0.335115   \n",
       "\n",
       "   danceability  dyn_range_mean    energy  ...  time_signature   valence  \\\n",
       "0      0.399767        7.511880  0.817709  ...               4  0.935512   \n",
       "1      0.491235        9.098376  0.154258  ...               3  0.359675   \n",
       "2      0.491625        8.368670  0.358813  ...               4  0.726769   \n",
       "3      0.552227        5.967346  0.514585  ...               4  0.859075   \n",
       "4      0.483044        5.802681  0.721442  ...               4  0.562343   \n",
       "\n",
       "   acoustic_vector_0  acoustic_vector_1  acoustic_vector_2  acoustic_vector_3  \\\n",
       "0          -0.033284          -0.411896          -0.028580           0.349438   \n",
       "1           0.145703          -0.850372           0.123860           0.746904   \n",
       "2           0.021720          -0.743634           0.333247           0.568447   \n",
       "3           0.039143          -0.267555          -0.051825           0.106173   \n",
       "4           0.131931          -0.292523          -0.174819          -0.034422   \n",
       "\n",
       "  acoustic_vector_4  acoustic_vector_5  acoustic_vector_6  acoustic_vector_7  \n",
       "0          0.832467          -0.213871          -0.299464          -0.675907  \n",
       "1          0.371803          -0.420558          -0.213120          -0.525795  \n",
       "2          0.411094          -0.187749          -0.387599          -0.433496  \n",
       "3          0.614825          -0.111419          -0.265953          -0.542753  \n",
       "4          0.717229          -0.016239          -0.392694          -0.455496  \n",
       "\n",
       "[5 rows x 30 columns]"
      ]
     },
     "execution_count": 6,
     "metadata": {},
     "output_type": "execute_result"
    }
   ],
   "source": [
    "tracks.head()"
   ]
  },
  {
   "cell_type": "code",
   "execution_count": 7,
   "id": "fd1c8312",
   "metadata": {},
   "outputs": [
    {
     "name": "stdout",
     "output_type": "stream",
     "text": [
      "<class 'pandas.core.frame.DataFrame'>\n",
      "RangeIndex: 50704 entries, 0 to 50703\n",
      "Data columns (total 30 columns):\n",
      " #   Column                  Non-Null Count  Dtype  \n",
      "---  ------                  --------------  -----  \n",
      " 0   track_id                50704 non-null  object \n",
      " 1   duration                50704 non-null  float64\n",
      " 2   release_year            50704 non-null  int64  \n",
      " 3   us_popularity_estimate  50704 non-null  float64\n",
      " 4   acousticness            50704 non-null  float64\n",
      " 5   beat_strength           50704 non-null  float64\n",
      " 6   bounciness              50704 non-null  float64\n",
      " 7   danceability            50704 non-null  float64\n",
      " 8   dyn_range_mean          50704 non-null  float64\n",
      " 9   energy                  50704 non-null  float64\n",
      " 10  flatness                50704 non-null  float64\n",
      " 11  instrumentalness        50704 non-null  float64\n",
      " 12  key                     50704 non-null  int64  \n",
      " 13  liveness                50704 non-null  float64\n",
      " 14  loudness                50704 non-null  float64\n",
      " 15  mechanism               50704 non-null  float64\n",
      " 16  mode                    50704 non-null  object \n",
      " 17  organism                50704 non-null  float64\n",
      " 18  speechiness             50704 non-null  float64\n",
      " 19  tempo                   50704 non-null  float64\n",
      " 20  time_signature          50704 non-null  int64  \n",
      " 21  valence                 50704 non-null  float64\n",
      " 22  acoustic_vector_0       50704 non-null  float64\n",
      " 23  acoustic_vector_1       50704 non-null  float64\n",
      " 24  acoustic_vector_2       50704 non-null  float64\n",
      " 25  acoustic_vector_3       50704 non-null  float64\n",
      " 26  acoustic_vector_4       50704 non-null  float64\n",
      " 27  acoustic_vector_5       50704 non-null  float64\n",
      " 28  acoustic_vector_6       50704 non-null  float64\n",
      " 29  acoustic_vector_7       50704 non-null  float64\n",
      "dtypes: float64(25), int64(3), object(2)\n",
      "memory usage: 11.6+ MB\n"
     ]
    }
   ],
   "source": [
    "tracks.info()"
   ]
  },
  {
   "cell_type": "markdown",
   "id": "0cb49ab0",
   "metadata": {},
   "source": [
    "#### Join the data sets on `track_id`. The resulting dataframe will have the session information as well as the track information."
   ]
  },
  {
   "cell_type": "code",
   "execution_count": 8,
   "id": "9ec5ca85",
   "metadata": {},
   "outputs": [],
   "source": [
    "df = pd.merge(data, tracks, how='left', left_on='track_id_clean', right_on='track_id')"
   ]
  },
  {
   "cell_type": "code",
   "execution_count": 9,
   "id": "d7f44260",
   "metadata": {},
   "outputs": [],
   "source": [
    "# No longer need both track columns\n",
    "df.drop('track_id', axis=1, inplace=True)"
   ]
  },
  {
   "cell_type": "markdown",
   "id": "f7b9e042",
   "metadata": {},
   "source": [
    "#### Adjust target to  `skipped`. `skip_2` is ground truth. Drop other skips and rename columns for efficiency and readability."
   ]
  },
  {
   "cell_type": "code",
   "execution_count": 10,
   "id": "79f13ada",
   "metadata": {},
   "outputs": [],
   "source": [
    "df.drop(labels=['skip_1', 'skip_3', 'not_skipped'], axis=1, inplace=True)"
   ]
  },
  {
   "cell_type": "code",
   "execution_count": 11,
   "id": "8a641bdb",
   "metadata": {},
   "outputs": [],
   "source": [
    "df.rename(columns={'skip_2': 'skipped', \n",
    "                    'track_id_clean' : 'track_id',\n",
    "                    'hist_user_behavior_n_seekfwd' : 'hist_seekfwd',\n",
    "                    'hist_user_behavior_n_seekback' : 'hist_seekback',\n",
    "                    'hist_user_behavior_is_shuffle' : 'hist_shuffle',\n",
    "                    'us_popularity_estimate' : 'popularity'\n",
    "                    }, inplace=True)"
   ]
  },
  {
   "cell_type": "markdown",
   "id": "cb84dc08",
   "metadata": {},
   "source": [
    "#### Converted different kinds of pauses to boolean `pause_before_play`. Dropped all other types of pauses."
   ]
  },
  {
   "cell_type": "code",
   "execution_count": 12,
   "id": "5b65bf7c",
   "metadata": {},
   "outputs": [],
   "source": [
    "df['no_pause_before_play'].replace([0, 1], [1, 0])\n",
    "df['pause_before_play'] = df['no_pause_before_play']\n",
    "df.drop(labels=['no_pause_before_play', 'short_pause_before_play', 'long_pause_before_play'], axis=1, inplace=True)"
   ]
  },
  {
   "cell_type": "markdown",
   "id": "97e20338",
   "metadata": {},
   "source": [
    "#### Convert boolean columns to numeric values."
   ]
  },
  {
   "cell_type": "code",
   "execution_count": 13,
   "id": "68e0d225",
   "metadata": {},
   "outputs": [],
   "source": [
    "bool_col = ['skipped', 'hist_shuffle', 'premium']\n",
    "df[bool_col] = df[bool_col].astype(int)"
   ]
  },
  {
   "cell_type": "markdown",
   "id": "fc953974",
   "metadata": {},
   "source": [
    "Check rate of skipping over each hour of the day, before encoding."
   ]
  },
  {
   "cell_type": "code",
   "execution_count": 17,
   "id": "4896e34a",
   "metadata": {},
   "outputs": [],
   "source": [
    "hour_of_day_skipped = df.pivot_table(index=['hour_of_day'], values=['skipped'])"
   ]
  },
  {
   "cell_type": "code",
   "execution_count": 21,
   "id": "07fda80c",
   "metadata": {},
   "outputs": [],
   "source": [
    "#hour_of_day_skipped.to_csv('hour_of_day_skipped.csv')"
   ]
  },
  {
   "cell_type": "markdown",
   "id": "1df6d56e",
   "metadata": {},
   "source": [
    "#### The hours of day were originally 0-23, I made these into sections of the day."
   ]
  },
  {
   "cell_type": "code",
   "execution_count": null,
   "id": "56b34512",
   "metadata": {},
   "outputs": [],
   "source": [
    "\"\"\"\n",
    "Encoding for time of day\n",
    "\n",
    "1-   5-9 Early AM\n",
    "2-   10-15 Late AM/Early PM\n",
    "3-   16-19 Evening\n",
    "4-   20-23 LatePM\n",
    "5-   0-4 Night\n",
    "\"\"\"\n",
    "\n",
    "hour_of_day_dict = {\n",
    "    \n",
    "    range(5, 10): 'EarlyAM',\n",
    "    range(10, 16): 'LateAMEarlyPM',\n",
    "    range(16, 20): 'Evening',\n",
    "    range(20, 24): 'LatePM',\n",
    "    range(0, 5): 'Night'\n",
    "    \n",
    "}\n",
    "\n",
    "df['hour_of_day'] = df['hour_of_day'].replace(hour_of_day_dict)"
   ]
  },
  {
   "cell_type": "markdown",
   "id": "0968449f",
   "metadata": {},
   "source": [
    "## Data Analysis"
   ]
  },
  {
   "cell_type": "code",
   "execution_count": null,
   "id": "b6b068de",
   "metadata": {},
   "outputs": [],
   "source": [
    "df['skipped'].value_counts(normalize=True)"
   ]
  },
  {
   "cell_type": "markdown",
   "id": "0f111486",
   "metadata": {},
   "source": [
    "Target is pretty balanced!"
   ]
  },
  {
   "cell_type": "markdown",
   "id": "a0dd5883",
   "metadata": {},
   "source": [
    "#### Viewing the values of the `date` column, it appears that most of these datapoints are from Sunday, July 15th 2018 (70%). This is considered a limitation as there isnt much data for different days of the week, and one can assume that would change skipping habits."
   ]
  },
  {
   "cell_type": "code",
   "execution_count": null,
   "id": "35670f01",
   "metadata": {},
   "outputs": [],
   "source": [
    "# Date column to datetime in case needed\n",
    "\n",
    "df['date'] = pd.to_datetime(df['date'])"
   ]
  },
  {
   "cell_type": "code",
   "execution_count": null,
   "id": "f1de0504",
   "metadata": {},
   "outputs": [],
   "source": [
    "df['date'].value_counts(normalize=True)"
   ]
  },
  {
   "cell_type": "code",
   "execution_count": null,
   "id": "ba9356f9",
   "metadata": {},
   "outputs": [],
   "source": [
    "# Get info per session instead of per value\n",
    "df.pivot_table(index=['session_id'], values=['premium']).value_counts()"
   ]
  },
  {
   "cell_type": "code",
   "execution_count": 26,
   "id": "db5b4e46",
   "metadata": {},
   "outputs": [],
   "source": [
    "context = df.pivot_table(index=['context_type'], values=['skipped'])"
   ]
  },
  {
   "cell_type": "code",
   "execution_count": 27,
   "id": "96b35c01",
   "metadata": {},
   "outputs": [],
   "source": [
    "context.to_csv('context_type.csv')"
   ]
  },
  {
   "cell_type": "markdown",
   "id": "32e3490a",
   "metadata": {},
   "source": [
    "There are about 80% premium users, and 20% free users. "
   ]
  },
  {
   "cell_type": "markdown",
   "id": "a7f3463e",
   "metadata": {},
   "source": [
    "#### Heat map to view correlation of track features:"
   ]
  },
  {
   "cell_type": "code",
   "execution_count": null,
   "id": "2f5acc3f",
   "metadata": {},
   "outputs": [],
   "source": [
    "seaborn.heatmap(tracks.drop(['track_id', 'mode'], axis=1).corr())"
   ]
  },
  {
   "cell_type": "markdown",
   "id": "53a43f69",
   "metadata": {},
   "source": [
    "Some correlation to with beat strength, danceability and energy. Acoustic vector 0 is also negatively correalted to these as well. "
   ]
  },
  {
   "cell_type": "code",
   "execution_count": null,
   "id": "c5e21fc3",
   "metadata": {},
   "outputs": [],
   "source": [
    "df.describe()"
   ]
  },
  {
   "cell_type": "markdown",
   "id": "6ae68241",
   "metadata": {},
   "source": [
    "Some things that stick out after looking at the stats:\n",
    "- the maximums for seek forward and back are oddly high\n",
    "- One of the songs is close to 20 min, shorted song is 30 sec\n",
    "- Earliest release date is 1950s"
   ]
  },
  {
   "cell_type": "markdown",
   "id": "9bdabdef",
   "metadata": {},
   "source": [
    "Addressing the outliers for Seek Forward and Backwards. Decided to encode these as a boolean below. This means that they fastforwarded or rewinded the current track at least once. "
   ]
  },
  {
   "cell_type": "code",
   "execution_count": null,
   "id": "187e1591",
   "metadata": {},
   "outputs": [],
   "source": [
    "df['hist_seekfwd'].replace(range(1, 200), 1, inplace=True)"
   ]
  },
  {
   "cell_type": "code",
   "execution_count": null,
   "id": "d2cf9389",
   "metadata": {},
   "outputs": [],
   "source": [
    "df['hist_seekback'].replace(range(1, 200), 1, inplace=True)"
   ]
  },
  {
   "cell_type": "markdown",
   "id": "18d2d69a",
   "metadata": {},
   "source": [
    "#### The following section views the current value counts and their percentages"
   ]
  },
  {
   "cell_type": "code",
   "execution_count": null,
   "id": "ca30a93f",
   "metadata": {},
   "outputs": [],
   "source": [
    "for column in df.columns:\n",
    "    print(f\"\\n{column.title()}:\")\n",
    "    print(df[column].value_counts())\n",
    "    print(df[column].value_counts(normalize=True))"
   ]
  },
  {
   "cell_type": "markdown",
   "id": "541049ec",
   "metadata": {},
   "source": [
    "#### Checking out the energy of a song and the time of day. Followed by categorical encoding using pandas get_dummies(). Hour of day and Context type will be encoded."
   ]
  },
  {
   "cell_type": "code",
   "execution_count": null,
   "id": "1d903162",
   "metadata": {},
   "outputs": [],
   "source": [
    "df.pivot_table(index=['hour_of_day'], values=['energy', 'valence', 'danceability'])"
   ]
  },
  {
   "cell_type": "code",
   "execution_count": null,
   "id": "10ff4814",
   "metadata": {},
   "outputs": [],
   "source": [
    "df.pivot_table(index=['hour_of_day'], values=['skipped'])"
   ]
  },
  {
   "cell_type": "markdown",
   "id": "898ccd62",
   "metadata": {},
   "source": [
    "There is a drop in skipping in the morning."
   ]
  },
  {
   "cell_type": "code",
   "execution_count": null,
   "id": "bde65e6a",
   "metadata": {},
   "outputs": [],
   "source": [
    "df.pivot_table(index=['session_position'], values=['skipped']).T"
   ]
  },
  {
   "cell_type": "markdown",
   "id": "280d82d3",
   "metadata": {},
   "source": [
    "People are skipping slightly more later into their session."
   ]
  },
  {
   "cell_type": "code",
   "execution_count": null,
   "id": "809fc90d",
   "metadata": {},
   "outputs": [],
   "source": [
    "df.pivot_table(index=['premium'], values=['skipped'])"
   ]
  },
  {
   "cell_type": "markdown",
   "id": "67963826",
   "metadata": {},
   "source": [
    "#### Encoding `hour_of_day` and `context type` categorical variables."
   ]
  },
  {
   "cell_type": "code",
   "execution_count": null,
   "id": "0d440596",
   "metadata": {},
   "outputs": [],
   "source": [
    "hour_of_day_dummies = pd.get_dummies(df['hour_of_day'])"
   ]
  },
  {
   "cell_type": "code",
   "execution_count": null,
   "id": "1dbc6279",
   "metadata": {},
   "outputs": [],
   "source": [
    "df = pd.concat([df, hour_of_day_dummies], axis=1)"
   ]
  },
  {
   "cell_type": "code",
   "execution_count": null,
   "id": "32042735",
   "metadata": {},
   "outputs": [],
   "source": [
    "df.drop('hour_of_day', axis=1, inplace=True)"
   ]
  },
  {
   "cell_type": "code",
   "execution_count": null,
   "id": "9492a420",
   "metadata": {},
   "outputs": [],
   "source": [
    "context_dummies = pd.get_dummies(df['context_type'])"
   ]
  },
  {
   "cell_type": "code",
   "execution_count": null,
   "id": "46854661",
   "metadata": {},
   "outputs": [],
   "source": [
    "df = pd.concat([df, context_dummies], axis=1)"
   ]
  },
  {
   "cell_type": "markdown",
   "id": "51f8df83",
   "metadata": {},
   "source": [
    "#### Dropping `context_switch` and `hist_user_behavior_reason_end` as they dont add much value to this analysis."
   ]
  },
  {
   "cell_type": "code",
   "execution_count": null,
   "id": "35799872",
   "metadata": {},
   "outputs": [],
   "source": [
    "df.drop(labels=['hist_user_behavior_reason_end', 'context_switch'], axis=1, inplace=True)"
   ]
  },
  {
   "cell_type": "markdown",
   "id": "79d47b60",
   "metadata": {},
   "source": [
    "#### Convert release year to `years old`."
   ]
  },
  {
   "cell_type": "code",
   "execution_count": null,
   "id": "477dd6c5",
   "metadata": {},
   "outputs": [],
   "source": [
    "df['years_old'] = [(2018 - x) for x in df['release_year']]"
   ]
  },
  {
   "cell_type": "code",
   "execution_count": null,
   "id": "1428d00f",
   "metadata": {},
   "outputs": [],
   "source": [
    "to_drop = ['context_type', 'bounciness', 'liveness', 'mechanism', 'mode', 'release_year']"
   ]
  },
  {
   "cell_type": "code",
   "execution_count": null,
   "id": "be7e3025",
   "metadata": {},
   "outputs": [],
   "source": [
    "df.drop(labels=to_drop, axis=1, inplace=True)"
   ]
  },
  {
   "cell_type": "markdown",
   "id": "5eb9714d",
   "metadata": {},
   "source": [
    "#### Reorder column names so all track information is on the tail end."
   ]
  },
  {
   "cell_type": "code",
   "execution_count": null,
   "id": "795ae97c",
   "metadata": {},
   "outputs": [],
   "source": [
    "df.columns"
   ]
  },
  {
   "cell_type": "code",
   "execution_count": null,
   "id": "7279448b",
   "metadata": {},
   "outputs": [],
   "source": [
    "df = df[['session_id', 'session_position', 'session_length', 'date', 'EarlyAM', 'Evening',\n",
    "       'LateAMEarlyPM', 'LatePM', 'Night', 'track_id',\n",
    "       'skipped', 'hist_seekfwd', 'hist_seekback', 'hist_shuffle', \n",
    "       'premium', 'hist_user_behavior_reason_start', 'pause_before_play', 'catalog', 'charts',\n",
    "       'editorial_playlist', 'personalized_playlist', 'radio',\n",
    "       'user_collection', 'duration',\n",
    "       'years_old', 'popularity', 'acousticness', 'beat_strength',\n",
    "       'danceability', 'dyn_range_mean', 'energy', 'flatness',\n",
    "       'instrumentalness', 'key', 'loudness', 'organism', 'speechiness',\n",
    "       'tempo', 'time_signature', 'valence', 'acoustic_vector_0',\n",
    "       'acoustic_vector_1', 'acoustic_vector_2', 'acoustic_vector_3',\n",
    "       'acoustic_vector_4', 'acoustic_vector_5', 'acoustic_vector_6',\n",
    "       'acoustic_vector_7']]"
   ]
  },
  {
   "cell_type": "markdown",
   "id": "b9c3864c",
   "metadata": {},
   "source": [
    "### Convert final dataframe to CSV to use for modeling."
   ]
  },
  {
   "cell_type": "code",
   "execution_count": null,
   "id": "fcb74376",
   "metadata": {},
   "outputs": [],
   "source": [
    "#df.to_csv('tracks_session_clean.csv')"
   ]
  },
  {
   "cell_type": "code",
   "execution_count": null,
   "id": "9de04bf2",
   "metadata": {},
   "outputs": [],
   "source": []
  }
 ],
 "metadata": {
  "kernelspec": {
   "display_name": "Python 3 (ipykernel)",
   "language": "python",
   "name": "python3"
  },
  "language_info": {
   "codemirror_mode": {
    "name": "ipython",
    "version": 3
   },
   "file_extension": ".py",
   "mimetype": "text/x-python",
   "name": "python",
   "nbconvert_exporter": "python",
   "pygments_lexer": "ipython3",
   "version": "3.9.13"
  }
 },
 "nbformat": 4,
 "nbformat_minor": 5
}
