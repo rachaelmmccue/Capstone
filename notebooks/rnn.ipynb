{
  "nbformat": 4,
  "nbformat_minor": 0,
  "metadata": {
    "colab": {
      "provenance": []
    },
    "kernelspec": {
      "name": "python3",
      "display_name": "Python 3"
    },
    "language_info": {
      "name": "python"
    }
  },
  "cells": [
    {
      "cell_type": "markdown",
      "source": [
        "# Recurrent Neural Network\n",
        "\n",
        "This notebook will read in the merged dataset of session behavior and track IDs, preprocess the data and perform an RNN model using an LSTM layer. \n",
        "\n",
        "The RNN model was chosen here because the sequence of the rows is important. The dataset is composed of several unique session IDs, each session consists of 20 rows. The data is reshaped during preprocessing to group the sessions. The LSTM layer is capable of learning long term dependencies, but predicting the following sequence based on the recent instances. "
      ],
      "metadata": {
        "id": "3EkW2clMtpce"
      }
    },
    {
      "cell_type": "markdown",
      "source": [
        "### Import libraries and read in the dataset"
      ],
      "metadata": {
        "id": "8B13-_vYvvwh"
      }
    },
    {
      "cell_type": "code",
      "execution_count": 4,
      "metadata": {
        "id": "5eEYDkSUNzDX"
      },
      "outputs": [],
      "source": [
        "import pandas as pd\n",
        "import numpy as np\n",
        "import tensorflow as tf\n",
        "from tensorflow import keras\n",
        "from keras import models\n",
        "from keras import layers\n",
        "from keras import optimizers\n",
        "\n",
        "#from src folder\n",
        "from preprocessing import *"
      ]
    },
    {
      "cell_type": "code",
      "source": [
        "df = pd.read_csv('tracks_session_clean.csv', index_col=0)\n",
        "\n",
        "##There is a variety of session lengths. The sessions with 20 instances will be used.\n",
        "\n",
        "df = df.loc[df['session_length'] == 20]"
      ],
      "metadata": {
        "id": "RIo8SzLlN3H3"
      },
      "execution_count": 7,
      "outputs": []
    },
    {
      "cell_type": "markdown",
      "source": [
        "### Drop columns\n",
        "\n",
        "To reduce making assumptions about the metadata, the acoustic vector columns were dropped. There are still plenty of music features available in the dataset that are more interpretable. Other dropped columns contained multicolinearity from the data exploration."
      ],
      "metadata": {
        "id": "kGrTINxVv-o3"
      }
    },
    {
      "cell_type": "code",
      "source": [
        "drop_col = ['session_length', 'date', 'track_id', 'hist_user_behavior_reason_start', 'beat_strength', 'dyn_range_mean',\n",
        "'acoustic_vector_0', 'acoustic_vector_1', 'acoustic_vector_2', 'acoustic_vector_3', 'acoustic_vector_4', 'acoustic_vector_5', 'acoustic_vector_6', 'acoustic_vector_7']\n",
        "\n",
        "df = df.drop(labels=drop_col, axis=1).reset_index(drop=True)"
      ],
      "metadata": {
        "id": "g7UaO4z4N3QY"
      },
      "execution_count": 8,
      "outputs": []
    },
    {
      "cell_type": "markdown",
      "source": [
        "### Preprocessing\n",
        "\n",
        "Takes in a dataframe. Returns `train_features`, `test_features`, `train_labels`, and `test_labels`. It also scales the features, then reshapes them to fit the 3D LSTM layer."
      ],
      "metadata": {
        "id": "7EIXx4uMwUJw"
      }
    },
    {
      "cell_type": "code",
      "source": [
        "train_features, test_features, train_labels, test_labels = preprocess(df)"
      ],
      "metadata": {
        "id": "dDxEnCc5svHy"
      },
      "execution_count": 9,
      "outputs": []
    },
    {
      "cell_type": "code",
      "source": [
        "print(train_features.shape)\n",
        "print(train_labels.shape)\n",
        "print(test_features.shape)\n",
        "print(test_labels.shape)"
      ],
      "metadata": {
        "id": "misIoEyLOPeI"
      },
      "execution_count": null,
      "outputs": []
    },
    {
      "cell_type": "markdown",
      "source": [
        "### Build & train model"
      ],
      "metadata": {
        "id": "sEvh9mvzw3yv"
      }
    },
    {
      "cell_type": "code",
      "source": [
        "model = keras.Sequential()\n",
        "model.add(layers.LSTM(16, activation='relu', return_sequences=True))\n",
        "model.add(layers.Dropout(.2))\n",
        "model.add(layers.Dense(16, activation='tanh'))\n",
        "model.add(layers.Dense(8, activation='relu'))\n",
        "\n",
        "#Binary outcome\n",
        "model.add(layers.Dense(1, activation='sigmoid'))\n",
        "\n",
        "model.compile(loss='binary_crossentropy', metrics='accuracy', optimizer='Adam')"
      ],
      "metadata": {
        "id": "PTQzFB_UOqKn"
      },
      "execution_count": 6,
      "outputs": []
    },
    {
      "cell_type": "code",
      "source": [
        "model.fit(train_features, train_labels, epochs=100, verbose=1, shuffle=False)"
      ],
      "metadata": {
        "colab": {
          "base_uri": "https://localhost:8080/"
        },
        "id": "114lFQU8OqU3",
        "outputId": "4f696bc2-ec22-42b9-916a-0b16865dea73"
      },
      "execution_count": 7,
      "outputs": [
        {
          "output_type": "stream",
          "name": "stdout",
          "text": [
            "Epoch 1/100\n",
            "110/110 [==============================] - 6s 11ms/step - loss: 0.6887 - accuracy: 0.5491\n",
            "Epoch 2/100\n",
            "110/110 [==============================] - 2s 16ms/step - loss: 0.6800 - accuracy: 0.5636\n",
            "Epoch 3/100\n",
            "110/110 [==============================] - 2s 23ms/step - loss: 0.6758 - accuracy: 0.5746\n",
            "Epoch 4/100\n",
            "110/110 [==============================] - 3s 24ms/step - loss: 0.6720 - accuracy: 0.5825\n",
            "Epoch 5/100\n",
            "110/110 [==============================] - 2s 19ms/step - loss: 0.6692 - accuracy: 0.5897\n",
            "Epoch 6/100\n",
            "110/110 [==============================] - 2s 20ms/step - loss: 0.6667 - accuracy: 0.5915\n",
            "Epoch 7/100\n",
            "110/110 [==============================] - 2s 22ms/step - loss: 0.6651 - accuracy: 0.5948\n",
            "Epoch 8/100\n",
            "110/110 [==============================] - 2s 18ms/step - loss: 0.6630 - accuracy: 0.5969\n",
            "Epoch 9/100\n",
            "110/110 [==============================] - 2s 14ms/step - loss: 0.6619 - accuracy: 0.6014\n",
            "Epoch 10/100\n",
            "110/110 [==============================] - 2s 17ms/step - loss: 0.6605 - accuracy: 0.6025\n",
            "Epoch 11/100\n",
            "110/110 [==============================] - 1s 10ms/step - loss: 0.6591 - accuracy: 0.6045\n",
            "Epoch 12/100\n",
            "110/110 [==============================] - 1s 9ms/step - loss: 0.6582 - accuracy: 0.6057\n",
            "Epoch 13/100\n",
            "110/110 [==============================] - 1s 9ms/step - loss: 0.6563 - accuracy: 0.6070\n",
            "Epoch 14/100\n",
            "110/110 [==============================] - 1s 9ms/step - loss: 0.6554 - accuracy: 0.6098\n",
            "Epoch 15/100\n",
            "110/110 [==============================] - 1s 9ms/step - loss: 0.6538 - accuracy: 0.6120\n",
            "Epoch 16/100\n",
            "110/110 [==============================] - 1s 9ms/step - loss: 0.6532 - accuracy: 0.6123\n",
            "Epoch 17/100\n",
            "110/110 [==============================] - 1s 9ms/step - loss: 0.6520 - accuracy: 0.6135\n",
            "Epoch 18/100\n",
            "110/110 [==============================] - 1s 10ms/step - loss: 0.6507 - accuracy: 0.6142\n",
            "Epoch 19/100\n",
            "110/110 [==============================] - 1s 9ms/step - loss: 0.6490 - accuracy: 0.6180\n",
            "Epoch 20/100\n",
            "110/110 [==============================] - 1s 10ms/step - loss: 0.6485 - accuracy: 0.6181\n",
            "Epoch 21/100\n",
            "110/110 [==============================] - 2s 14ms/step - loss: 0.6473 - accuracy: 0.6196\n",
            "Epoch 22/100\n",
            "110/110 [==============================] - 1s 13ms/step - loss: 0.6457 - accuracy: 0.6206\n",
            "Epoch 23/100\n",
            "110/110 [==============================] - 1s 9ms/step - loss: 0.6448 - accuracy: 0.6230\n",
            "Epoch 24/100\n",
            "110/110 [==============================] - 1s 9ms/step - loss: 0.6447 - accuracy: 0.6203\n",
            "Epoch 25/100\n",
            "110/110 [==============================] - 1s 9ms/step - loss: 0.6424 - accuracy: 0.6243\n",
            "Epoch 26/100\n",
            "110/110 [==============================] - 1s 9ms/step - loss: 0.6426 - accuracy: 0.6243\n",
            "Epoch 27/100\n",
            "110/110 [==============================] - 1s 9ms/step - loss: 0.6415 - accuracy: 0.6245\n",
            "Epoch 28/100\n",
            "110/110 [==============================] - 1s 10ms/step - loss: 0.6412 - accuracy: 0.6266\n",
            "Epoch 29/100\n",
            "110/110 [==============================] - 1s 9ms/step - loss: 0.6398 - accuracy: 0.6272\n",
            "Epoch 30/100\n",
            "110/110 [==============================] - 1s 9ms/step - loss: 0.6388 - accuracy: 0.6298\n",
            "Epoch 31/100\n",
            "110/110 [==============================] - 1s 9ms/step - loss: 0.6382 - accuracy: 0.6288\n",
            "Epoch 32/100\n",
            "110/110 [==============================] - 1s 10ms/step - loss: 0.6390 - accuracy: 0.6283\n",
            "Epoch 33/100\n",
            "110/110 [==============================] - 1s 13ms/step - loss: 0.6360 - accuracy: 0.6305\n",
            "Epoch 34/100\n",
            "110/110 [==============================] - 1s 13ms/step - loss: 0.6360 - accuracy: 0.6324\n",
            "Epoch 35/100\n",
            "110/110 [==============================] - 1s 9ms/step - loss: 0.6342 - accuracy: 0.6334\n",
            "Epoch 36/100\n",
            "110/110 [==============================] - 1s 9ms/step - loss: 0.6337 - accuracy: 0.6348\n",
            "Epoch 37/100\n",
            "110/110 [==============================] - 1s 9ms/step - loss: 0.6327 - accuracy: 0.6344\n",
            "Epoch 38/100\n",
            "110/110 [==============================] - 1s 9ms/step - loss: 0.6321 - accuracy: 0.6350\n",
            "Epoch 39/100\n",
            "110/110 [==============================] - 1s 9ms/step - loss: 0.6327 - accuracy: 0.6362\n",
            "Epoch 40/100\n",
            "110/110 [==============================] - 1s 9ms/step - loss: 0.6321 - accuracy: 0.6363\n",
            "Epoch 41/100\n",
            "110/110 [==============================] - 1s 9ms/step - loss: 0.6300 - accuracy: 0.6378\n",
            "Epoch 42/100\n",
            "110/110 [==============================] - 1s 9ms/step - loss: 0.6306 - accuracy: 0.6378\n",
            "Epoch 43/100\n",
            "110/110 [==============================] - 1s 9ms/step - loss: 0.6296 - accuracy: 0.6370\n",
            "Epoch 44/100\n",
            "110/110 [==============================] - 1s 10ms/step - loss: 0.6287 - accuracy: 0.6410\n",
            "Epoch 45/100\n",
            "110/110 [==============================] - 1s 13ms/step - loss: 0.6272 - accuracy: 0.6422\n",
            "Epoch 46/100\n",
            "110/110 [==============================] - 1s 13ms/step - loss: 0.6281 - accuracy: 0.6386\n",
            "Epoch 47/100\n",
            "110/110 [==============================] - 1s 9ms/step - loss: 0.6262 - accuracy: 0.6419\n",
            "Epoch 48/100\n",
            "110/110 [==============================] - 1s 9ms/step - loss: 0.6262 - accuracy: 0.6421\n",
            "Epoch 49/100\n",
            "110/110 [==============================] - 1s 9ms/step - loss: 0.6260 - accuracy: 0.6419\n",
            "Epoch 50/100\n",
            "110/110 [==============================] - 1s 9ms/step - loss: 0.6248 - accuracy: 0.6434\n",
            "Epoch 51/100\n",
            "110/110 [==============================] - 1s 9ms/step - loss: 0.6230 - accuracy: 0.6477\n",
            "Epoch 52/100\n",
            "110/110 [==============================] - 1s 9ms/step - loss: 0.6241 - accuracy: 0.6446\n",
            "Epoch 53/100\n",
            "110/110 [==============================] - 1s 10ms/step - loss: 0.6236 - accuracy: 0.6434\n",
            "Epoch 54/100\n",
            "110/110 [==============================] - 1s 10ms/step - loss: 0.6228 - accuracy: 0.6463\n",
            "Epoch 55/100\n",
            "110/110 [==============================] - 1s 9ms/step - loss: 0.6202 - accuracy: 0.6481\n",
            "Epoch 56/100\n",
            "110/110 [==============================] - 2s 21ms/step - loss: 0.6209 - accuracy: 0.6453\n",
            "Epoch 57/100\n",
            "110/110 [==============================] - 2s 19ms/step - loss: 0.6209 - accuracy: 0.6477\n",
            "Epoch 58/100\n",
            "110/110 [==============================] - 1s 10ms/step - loss: 0.6197 - accuracy: 0.6492\n",
            "Epoch 59/100\n",
            "110/110 [==============================] - 1s 10ms/step - loss: 0.6196 - accuracy: 0.6475\n",
            "Epoch 60/100\n",
            "110/110 [==============================] - 1s 10ms/step - loss: 0.6184 - accuracy: 0.6505\n",
            "Epoch 61/100\n",
            "110/110 [==============================] - 1s 10ms/step - loss: 0.6187 - accuracy: 0.6497\n",
            "Epoch 62/100\n",
            "110/110 [==============================] - 1s 9ms/step - loss: 0.6192 - accuracy: 0.6495\n",
            "Epoch 63/100\n",
            "110/110 [==============================] - 1s 10ms/step - loss: 0.6195 - accuracy: 0.6497\n",
            "Epoch 64/100\n",
            "110/110 [==============================] - 1s 9ms/step - loss: 0.6164 - accuracy: 0.6518\n",
            "Epoch 65/100\n",
            "110/110 [==============================] - 1s 9ms/step - loss: 0.6170 - accuracy: 0.6511\n",
            "Epoch 66/100\n",
            "110/110 [==============================] - 1s 9ms/step - loss: 0.6165 - accuracy: 0.6523\n",
            "Epoch 67/100\n",
            "110/110 [==============================] - 1s 12ms/step - loss: 0.6146 - accuracy: 0.6540\n",
            "Epoch 68/100\n",
            "110/110 [==============================] - 1s 13ms/step - loss: 0.6150 - accuracy: 0.6528\n",
            "Epoch 69/100\n",
            "110/110 [==============================] - 1s 12ms/step - loss: 0.6161 - accuracy: 0.6514\n",
            "Epoch 70/100\n",
            "110/110 [==============================] - 1s 9ms/step - loss: 0.6139 - accuracy: 0.6531\n",
            "Epoch 71/100\n",
            "110/110 [==============================] - 1s 10ms/step - loss: 0.6140 - accuracy: 0.6550\n",
            "Epoch 72/100\n",
            "110/110 [==============================] - 1s 9ms/step - loss: 0.6144 - accuracy: 0.6546\n",
            "Epoch 73/100\n",
            "110/110 [==============================] - 1s 10ms/step - loss: 0.6143 - accuracy: 0.6543\n",
            "Epoch 74/100\n",
            "110/110 [==============================] - 1s 10ms/step - loss: 0.6155 - accuracy: 0.6528\n",
            "Epoch 75/100\n",
            "110/110 [==============================] - 1s 10ms/step - loss: 0.6118 - accuracy: 0.6557\n",
            "Epoch 76/100\n",
            "110/110 [==============================] - 1s 10ms/step - loss: 0.6132 - accuracy: 0.6544\n",
            "Epoch 77/100\n",
            "110/110 [==============================] - 1s 10ms/step - loss: 0.6116 - accuracy: 0.6556\n",
            "Epoch 78/100\n",
            "110/110 [==============================] - 1s 10ms/step - loss: 0.6113 - accuracy: 0.6583\n",
            "Epoch 79/100\n",
            "110/110 [==============================] - 2s 14ms/step - loss: 0.6113 - accuracy: 0.6565\n",
            "Epoch 80/100\n",
            "110/110 [==============================] - 2s 14ms/step - loss: 0.6125 - accuracy: 0.6556\n",
            "Epoch 81/100\n",
            "110/110 [==============================] - 1s 10ms/step - loss: 0.6111 - accuracy: 0.6576\n",
            "Epoch 82/100\n",
            "110/110 [==============================] - 1s 10ms/step - loss: 0.6097 - accuracy: 0.6581\n",
            "Epoch 83/100\n",
            "110/110 [==============================] - 1s 10ms/step - loss: 0.6101 - accuracy: 0.6580\n",
            "Epoch 84/100\n",
            "110/110 [==============================] - 1s 10ms/step - loss: 0.6090 - accuracy: 0.6593\n",
            "Epoch 85/100\n",
            "110/110 [==============================] - 1s 10ms/step - loss: 0.6102 - accuracy: 0.6601\n",
            "Epoch 86/100\n",
            "110/110 [==============================] - 1s 10ms/step - loss: 0.6086 - accuracy: 0.6578\n",
            "Epoch 87/100\n",
            "110/110 [==============================] - 1s 9ms/step - loss: 0.6068 - accuracy: 0.6612\n",
            "Epoch 88/100\n",
            "110/110 [==============================] - 1s 10ms/step - loss: 0.6076 - accuracy: 0.6593\n",
            "Epoch 89/100\n",
            "110/110 [==============================] - 1s 9ms/step - loss: 0.6061 - accuracy: 0.6619\n",
            "Epoch 90/100\n",
            "110/110 [==============================] - 1s 12ms/step - loss: 0.6097 - accuracy: 0.6593\n",
            "Epoch 91/100\n",
            "110/110 [==============================] - 2s 14ms/step - loss: 0.6085 - accuracy: 0.6598\n",
            "Epoch 92/100\n",
            "110/110 [==============================] - 2s 15ms/step - loss: 0.6065 - accuracy: 0.6616\n",
            "Epoch 93/100\n",
            "110/110 [==============================] - 1s 10ms/step - loss: 0.6077 - accuracy: 0.6601\n",
            "Epoch 94/100\n",
            "110/110 [==============================] - 1s 10ms/step - loss: 0.6045 - accuracy: 0.6641\n",
            "Epoch 95/100\n",
            "110/110 [==============================] - 1s 10ms/step - loss: 0.6050 - accuracy: 0.6633\n",
            "Epoch 96/100\n",
            "110/110 [==============================] - 1s 10ms/step - loss: 0.6082 - accuracy: 0.6620\n",
            "Epoch 97/100\n",
            "110/110 [==============================] - 1s 10ms/step - loss: 0.6070 - accuracy: 0.6624\n",
            "Epoch 98/100\n",
            "110/110 [==============================] - 1s 10ms/step - loss: 0.6043 - accuracy: 0.6618\n",
            "Epoch 99/100\n",
            "110/110 [==============================] - 1s 10ms/step - loss: 0.6046 - accuracy: 0.6625\n",
            "Epoch 100/100\n",
            "110/110 [==============================] - 1s 9ms/step - loss: 0.6061 - accuracy: 0.6631\n"
          ]
        },
        {
          "output_type": "execute_result",
          "data": {
            "text/plain": [
              "<keras.callbacks.History at 0x7f7c9fecd3d0>"
            ]
          },
          "metadata": {},
          "execution_count": 7
        }
      ]
    },
    {
      "cell_type": "code",
      "source": [
        "model.evaluate(test_features, test_labels)"
      ],
      "metadata": {
        "colab": {
          "base_uri": "https://localhost:8080/"
        },
        "id": "WwDtTK1CO0nB",
        "outputId": "19e7d9f7-2701-4a0e-aa3b-9adbf0dd5ebf"
      },
      "execution_count": 8,
      "outputs": [
        {
          "output_type": "stream",
          "name": "stdout",
          "text": [
            "49/49 [==============================] - 1s 4ms/step - loss: 0.7262 - accuracy: 0.5708\n"
          ]
        },
        {
          "output_type": "execute_result",
          "data": {
            "text/plain": [
              "[0.7261636853218079, 0.5707960724830627]"
            ]
          },
          "metadata": {},
          "execution_count": 8
        }
      ]
    },
    {
      "cell_type": "markdown",
      "source": [
        "### Interpretation"
      ],
      "metadata": {
        "id": "8AQAwXGcxTas"
      }
    },
    {
      "cell_type": "code",
      "source": [],
      "metadata": {
        "id": "EILfCMlPO0uw"
      },
      "execution_count": 8,
      "outputs": []
    }
  ]
}