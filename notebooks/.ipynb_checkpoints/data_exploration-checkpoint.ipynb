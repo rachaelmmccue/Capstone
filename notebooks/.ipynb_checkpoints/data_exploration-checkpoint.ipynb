{
 "cells": [
  {
   "cell_type": "markdown",
   "id": "06859165",
   "metadata": {},
   "source": [
    "# Data Exploration, Cleaning, Analysis\n",
    "\n",
    "This notebook is used for the initial data exploration and analysis. \n",
    "\n",
    "The data consists of two CSVs:\n",
    "- Track IDs and track information\n",
    "- Session IDs and user behavior information\n",
    "\n",
    "After the analysis, a cleaned, merged DataFrame containing all of the above information was converted to a CSV to use for future modeling. "
   ]
  },
  {
   "cell_type": "markdown",
   "id": "5074b1ee",
   "metadata": {},
   "source": [
    "#### Import necessary libraries"
   ]
  },
  {
   "cell_type": "code",
   "execution_count": 1,
   "id": "aa6b898d",
   "metadata": {},
   "outputs": [],
   "source": [
    "import pandas as pd\n",
    "import seaborn\n",
    "import numpy as np\n",
    "import matplotlib.pyplot as plt"
   ]
  },
  {
   "cell_type": "markdown",
   "id": "e82a3baa",
   "metadata": {},
   "source": [
    "#### Read in the data"
   ]
  },
  {
   "cell_type": "code",
   "execution_count": 3,
   "id": "b0a85c8a",
   "metadata": {},
   "outputs": [
    {
     "ename": "FileNotFoundError",
     "evalue": "[Errno 2] No such file or directory: 'data/training_set/log_mini.csv'",
     "output_type": "error",
     "traceback": [
      "\u001b[0;31m---------------------------------------------------------------------------\u001b[0m",
      "\u001b[0;31mFileNotFoundError\u001b[0m                         Traceback (most recent call last)",
      "\u001b[0;32m/var/folders/_j/k535z59d70v7bz31svkq69b40000gn/T/ipykernel_5887/4261900031.py\u001b[0m in \u001b[0;36m<module>\u001b[0;34m\u001b[0m\n\u001b[0;32m----> 1\u001b[0;31m \u001b[0mdata\u001b[0m \u001b[0;34m=\u001b[0m \u001b[0mpd\u001b[0m\u001b[0;34m.\u001b[0m\u001b[0mread_csv\u001b[0m\u001b[0;34m(\u001b[0m\u001b[0;34m'data/training_set/log_mini.csv'\u001b[0m\u001b[0;34m)\u001b[0m\u001b[0;34m\u001b[0m\u001b[0;34m\u001b[0m\u001b[0m\n\u001b[0m",
      "\u001b[0;32m~/opt/anaconda3/lib/python3.9/site-packages/pandas/util/_decorators.py\u001b[0m in \u001b[0;36mwrapper\u001b[0;34m(*args, **kwargs)\u001b[0m\n\u001b[1;32m    309\u001b[0m                     \u001b[0mstacklevel\u001b[0m\u001b[0;34m=\u001b[0m\u001b[0mstacklevel\u001b[0m\u001b[0;34m,\u001b[0m\u001b[0;34m\u001b[0m\u001b[0;34m\u001b[0m\u001b[0m\n\u001b[1;32m    310\u001b[0m                 )\n\u001b[0;32m--> 311\u001b[0;31m             \u001b[0;32mreturn\u001b[0m \u001b[0mfunc\u001b[0m\u001b[0;34m(\u001b[0m\u001b[0;34m*\u001b[0m\u001b[0margs\u001b[0m\u001b[0;34m,\u001b[0m \u001b[0;34m**\u001b[0m\u001b[0mkwargs\u001b[0m\u001b[0;34m)\u001b[0m\u001b[0;34m\u001b[0m\u001b[0;34m\u001b[0m\u001b[0m\n\u001b[0m\u001b[1;32m    312\u001b[0m \u001b[0;34m\u001b[0m\u001b[0m\n\u001b[1;32m    313\u001b[0m         \u001b[0;32mreturn\u001b[0m \u001b[0mwrapper\u001b[0m\u001b[0;34m\u001b[0m\u001b[0;34m\u001b[0m\u001b[0m\n",
      "\u001b[0;32m~/opt/anaconda3/lib/python3.9/site-packages/pandas/io/parsers/readers.py\u001b[0m in \u001b[0;36mread_csv\u001b[0;34m(filepath_or_buffer, sep, delimiter, header, names, index_col, usecols, squeeze, prefix, mangle_dupe_cols, dtype, engine, converters, true_values, false_values, skipinitialspace, skiprows, skipfooter, nrows, na_values, keep_default_na, na_filter, verbose, skip_blank_lines, parse_dates, infer_datetime_format, keep_date_col, date_parser, dayfirst, cache_dates, iterator, chunksize, compression, thousands, decimal, lineterminator, quotechar, quoting, doublequote, escapechar, comment, encoding, encoding_errors, dialect, error_bad_lines, warn_bad_lines, on_bad_lines, delim_whitespace, low_memory, memory_map, float_precision, storage_options)\u001b[0m\n\u001b[1;32m    676\u001b[0m     \u001b[0mkwds\u001b[0m\u001b[0;34m.\u001b[0m\u001b[0mupdate\u001b[0m\u001b[0;34m(\u001b[0m\u001b[0mkwds_defaults\u001b[0m\u001b[0;34m)\u001b[0m\u001b[0;34m\u001b[0m\u001b[0;34m\u001b[0m\u001b[0m\n\u001b[1;32m    677\u001b[0m \u001b[0;34m\u001b[0m\u001b[0m\n\u001b[0;32m--> 678\u001b[0;31m     \u001b[0;32mreturn\u001b[0m \u001b[0m_read\u001b[0m\u001b[0;34m(\u001b[0m\u001b[0mfilepath_or_buffer\u001b[0m\u001b[0;34m,\u001b[0m \u001b[0mkwds\u001b[0m\u001b[0;34m)\u001b[0m\u001b[0;34m\u001b[0m\u001b[0;34m\u001b[0m\u001b[0m\n\u001b[0m\u001b[1;32m    679\u001b[0m \u001b[0;34m\u001b[0m\u001b[0m\n\u001b[1;32m    680\u001b[0m \u001b[0;34m\u001b[0m\u001b[0m\n",
      "\u001b[0;32m~/opt/anaconda3/lib/python3.9/site-packages/pandas/io/parsers/readers.py\u001b[0m in \u001b[0;36m_read\u001b[0;34m(filepath_or_buffer, kwds)\u001b[0m\n\u001b[1;32m    573\u001b[0m \u001b[0;34m\u001b[0m\u001b[0m\n\u001b[1;32m    574\u001b[0m     \u001b[0;31m# Create the parser.\u001b[0m\u001b[0;34m\u001b[0m\u001b[0;34m\u001b[0m\u001b[0m\n\u001b[0;32m--> 575\u001b[0;31m     \u001b[0mparser\u001b[0m \u001b[0;34m=\u001b[0m \u001b[0mTextFileReader\u001b[0m\u001b[0;34m(\u001b[0m\u001b[0mfilepath_or_buffer\u001b[0m\u001b[0;34m,\u001b[0m \u001b[0;34m**\u001b[0m\u001b[0mkwds\u001b[0m\u001b[0;34m)\u001b[0m\u001b[0;34m\u001b[0m\u001b[0;34m\u001b[0m\u001b[0m\n\u001b[0m\u001b[1;32m    576\u001b[0m \u001b[0;34m\u001b[0m\u001b[0m\n\u001b[1;32m    577\u001b[0m     \u001b[0;32mif\u001b[0m \u001b[0mchunksize\u001b[0m \u001b[0;32mor\u001b[0m \u001b[0miterator\u001b[0m\u001b[0;34m:\u001b[0m\u001b[0;34m\u001b[0m\u001b[0;34m\u001b[0m\u001b[0m\n",
      "\u001b[0;32m~/opt/anaconda3/lib/python3.9/site-packages/pandas/io/parsers/readers.py\u001b[0m in \u001b[0;36m__init__\u001b[0;34m(self, f, engine, **kwds)\u001b[0m\n\u001b[1;32m    930\u001b[0m \u001b[0;34m\u001b[0m\u001b[0m\n\u001b[1;32m    931\u001b[0m         \u001b[0mself\u001b[0m\u001b[0;34m.\u001b[0m\u001b[0mhandles\u001b[0m\u001b[0;34m:\u001b[0m \u001b[0mIOHandles\u001b[0m \u001b[0;34m|\u001b[0m \u001b[0;32mNone\u001b[0m \u001b[0;34m=\u001b[0m \u001b[0;32mNone\u001b[0m\u001b[0;34m\u001b[0m\u001b[0;34m\u001b[0m\u001b[0m\n\u001b[0;32m--> 932\u001b[0;31m         \u001b[0mself\u001b[0m\u001b[0;34m.\u001b[0m\u001b[0m_engine\u001b[0m \u001b[0;34m=\u001b[0m \u001b[0mself\u001b[0m\u001b[0;34m.\u001b[0m\u001b[0m_make_engine\u001b[0m\u001b[0;34m(\u001b[0m\u001b[0mf\u001b[0m\u001b[0;34m,\u001b[0m \u001b[0mself\u001b[0m\u001b[0;34m.\u001b[0m\u001b[0mengine\u001b[0m\u001b[0;34m)\u001b[0m\u001b[0;34m\u001b[0m\u001b[0;34m\u001b[0m\u001b[0m\n\u001b[0m\u001b[1;32m    933\u001b[0m \u001b[0;34m\u001b[0m\u001b[0m\n\u001b[1;32m    934\u001b[0m     \u001b[0;32mdef\u001b[0m \u001b[0mclose\u001b[0m\u001b[0;34m(\u001b[0m\u001b[0mself\u001b[0m\u001b[0;34m)\u001b[0m\u001b[0;34m:\u001b[0m\u001b[0;34m\u001b[0m\u001b[0;34m\u001b[0m\u001b[0m\n",
      "\u001b[0;32m~/opt/anaconda3/lib/python3.9/site-packages/pandas/io/parsers/readers.py\u001b[0m in \u001b[0;36m_make_engine\u001b[0;34m(self, f, engine)\u001b[0m\n\u001b[1;32m   1214\u001b[0m             \u001b[0;31m# \"Union[str, PathLike[str], ReadCsvBuffer[bytes], ReadCsvBuffer[str]]\"\u001b[0m\u001b[0;34m\u001b[0m\u001b[0;34m\u001b[0m\u001b[0m\n\u001b[1;32m   1215\u001b[0m             \u001b[0;31m# , \"str\", \"bool\", \"Any\", \"Any\", \"Any\", \"Any\", \"Any\"\u001b[0m\u001b[0;34m\u001b[0m\u001b[0;34m\u001b[0m\u001b[0m\n\u001b[0;32m-> 1216\u001b[0;31m             self.handles = get_handle(  # type: ignore[call-overload]\n\u001b[0m\u001b[1;32m   1217\u001b[0m                 \u001b[0mf\u001b[0m\u001b[0;34m,\u001b[0m\u001b[0;34m\u001b[0m\u001b[0;34m\u001b[0m\u001b[0m\n\u001b[1;32m   1218\u001b[0m                 \u001b[0mmode\u001b[0m\u001b[0;34m,\u001b[0m\u001b[0;34m\u001b[0m\u001b[0;34m\u001b[0m\u001b[0m\n",
      "\u001b[0;32m~/opt/anaconda3/lib/python3.9/site-packages/pandas/io/common.py\u001b[0m in \u001b[0;36mget_handle\u001b[0;34m(path_or_buf, mode, encoding, compression, memory_map, is_text, errors, storage_options)\u001b[0m\n\u001b[1;32m    784\u001b[0m         \u001b[0;32mif\u001b[0m \u001b[0mioargs\u001b[0m\u001b[0;34m.\u001b[0m\u001b[0mencoding\u001b[0m \u001b[0;32mand\u001b[0m \u001b[0;34m\"b\"\u001b[0m \u001b[0;32mnot\u001b[0m \u001b[0;32min\u001b[0m \u001b[0mioargs\u001b[0m\u001b[0;34m.\u001b[0m\u001b[0mmode\u001b[0m\u001b[0;34m:\u001b[0m\u001b[0;34m\u001b[0m\u001b[0;34m\u001b[0m\u001b[0m\n\u001b[1;32m    785\u001b[0m             \u001b[0;31m# Encoding\u001b[0m\u001b[0;34m\u001b[0m\u001b[0;34m\u001b[0m\u001b[0m\n\u001b[0;32m--> 786\u001b[0;31m             handle = open(\n\u001b[0m\u001b[1;32m    787\u001b[0m                 \u001b[0mhandle\u001b[0m\u001b[0;34m,\u001b[0m\u001b[0;34m\u001b[0m\u001b[0;34m\u001b[0m\u001b[0m\n\u001b[1;32m    788\u001b[0m                 \u001b[0mioargs\u001b[0m\u001b[0;34m.\u001b[0m\u001b[0mmode\u001b[0m\u001b[0;34m,\u001b[0m\u001b[0;34m\u001b[0m\u001b[0;34m\u001b[0m\u001b[0m\n",
      "\u001b[0;31mFileNotFoundError\u001b[0m: [Errno 2] No such file or directory: 'data/training_set/log_mini.csv'"
     ]
    }
   ],
   "source": [
    "data = pd.read_csv('data/training_set/log_mini.csv')"
   ]
  },
  {
   "cell_type": "code",
   "execution_count": null,
   "id": "7fc31f5b",
   "metadata": {},
   "outputs": [],
   "source": [
    "data.head()"
   ]
  },
  {
   "cell_type": "code",
   "execution_count": null,
   "id": "612e20f2",
   "metadata": {},
   "outputs": [],
   "source": [
    "data.info()"
   ]
  },
  {
   "cell_type": "code",
   "execution_count": null,
   "id": "8c184c60",
   "metadata": {},
   "outputs": [],
   "source": [
    "tracks = pd.read_csv('data/track_features/tf_mini.csv')"
   ]
  },
  {
   "cell_type": "code",
   "execution_count": null,
   "id": "2d184f5b",
   "metadata": {},
   "outputs": [],
   "source": [
    "tracks.head()"
   ]
  },
  {
   "cell_type": "code",
   "execution_count": null,
   "id": "fd1c8312",
   "metadata": {},
   "outputs": [],
   "source": [
    "tracks.info()"
   ]
  },
  {
   "cell_type": "markdown",
   "id": "0cb49ab0",
   "metadata": {},
   "source": [
    "#### Join the data sets on `track_id`. The resulting dataframe will have the session information as well as the track information."
   ]
  },
  {
   "cell_type": "code",
   "execution_count": null,
   "id": "9ec5ca85",
   "metadata": {},
   "outputs": [],
   "source": [
    "df = pd.merge(data, tracks, how='left', left_on='track_id_clean', right_on='track_id')"
   ]
  },
  {
   "cell_type": "code",
   "execution_count": null,
   "id": "d7f44260",
   "metadata": {},
   "outputs": [],
   "source": [
    "# No longer need both track columns\n",
    "df.drop('track_id', axis=1, inplace=True)"
   ]
  },
  {
   "cell_type": "markdown",
   "id": "f7b9e042",
   "metadata": {},
   "source": [
    "#### Adjust target to  `skipped`. `skip_2` is ground truth. Drop other skips and rename columns for efficiency and readability."
   ]
  },
  {
   "cell_type": "code",
   "execution_count": null,
   "id": "79f13ada",
   "metadata": {},
   "outputs": [],
   "source": [
    "df.drop(labels=['skip_1', 'skip_3', 'not_skipped'], axis=1, inplace=True)"
   ]
  },
  {
   "cell_type": "code",
   "execution_count": null,
   "id": "8a641bdb",
   "metadata": {},
   "outputs": [],
   "source": [
    "df.rename(columns={'skip_2': 'skipped', \n",
    "                    'track_id_clean' : 'track_id',\n",
    "                    'hist_user_behavior_n_seekfwd' : 'hist_seekfwd',\n",
    "                    'hist_user_behavior_n_seekback' : 'hist_seekback',\n",
    "                    'hist_user_behavior_is_shuffle' : 'hist_shuffle',\n",
    "                    'us_popularity_estimate' : 'popularity'\n",
    "                    }, inplace=True)"
   ]
  },
  {
   "cell_type": "markdown",
   "id": "cb84dc08",
   "metadata": {},
   "source": [
    "#### Converted different kinds of pauses to boolean `pause_before_play`. Dropped all other types of pauses."
   ]
  },
  {
   "cell_type": "code",
   "execution_count": null,
   "id": "5b65bf7c",
   "metadata": {},
   "outputs": [],
   "source": [
    "df['no_pause_before_play'].replace([0, 1], [1, 0])\n",
    "df['pause_before_play'] = df['no_pause_before_play']\n",
    "df.drop(labels=['no_pause_before_play', 'short_pause_before_play', 'long_pause_before_play'], axis=1, inplace=True)"
   ]
  },
  {
   "cell_type": "markdown",
   "id": "97e20338",
   "metadata": {},
   "source": [
    "#### Convert boolean columns to numeric values."
   ]
  },
  {
   "cell_type": "code",
   "execution_count": null,
   "id": "68e0d225",
   "metadata": {},
   "outputs": [],
   "source": [
    "bool_col = ['skipped', 'hist_shuffle', 'premium']\n",
    "df[bool_col] = df[bool_col].astype(int)"
   ]
  },
  {
   "cell_type": "markdown",
   "id": "1df6d56e",
   "metadata": {},
   "source": [
    "#### The hours of day were originally 0-23, I made these into sections of the day."
   ]
  },
  {
   "cell_type": "code",
   "execution_count": null,
   "id": "56b34512",
   "metadata": {},
   "outputs": [],
   "source": [
    "\"\"\"\n",
    "Encoding for time of day\n",
    "\n",
    "1-   5-9 Early AM\n",
    "2-   10-15 Late AM/Early PM\n",
    "3-   16-19 Evening\n",
    "4-   20-23 LatePM\n",
    "5-   0-4 Night\n",
    "\"\"\"\n",
    "\n",
    "hour_of_day_dict = {\n",
    "    \n",
    "    range(5, 10): 'EarlyAM',\n",
    "    range(10, 16): 'LateAMEarlyPM',\n",
    "    range(16, 20): 'Evening',\n",
    "    range(20, 24): 'LatePM',\n",
    "    range(0, 5): 'Night'\n",
    "    \n",
    "}\n",
    "\n",
    "df['hour_of_day'] = df['hour_of_day'].replace(hour_of_day_dict)"
   ]
  },
  {
   "cell_type": "markdown",
   "id": "0968449f",
   "metadata": {},
   "source": [
    "## Data Analysis"
   ]
  },
  {
   "cell_type": "code",
   "execution_count": null,
   "id": "b6b068de",
   "metadata": {},
   "outputs": [],
   "source": [
    "df['skipped'].value_counts(normalize=True)"
   ]
  },
  {
   "cell_type": "markdown",
   "id": "0f111486",
   "metadata": {},
   "source": [
    "Target is pretty balanced!"
   ]
  },
  {
   "cell_type": "markdown",
   "id": "a0dd5883",
   "metadata": {},
   "source": [
    "#### Viewing the values of the `date` column, it appears that most of these datapoints are from Sunday, July 15th 2018 (70%). This is considered a limitation as there isnt much data for different days of the week, and one can assume that would change skipping habits."
   ]
  },
  {
   "cell_type": "code",
   "execution_count": null,
   "id": "35670f01",
   "metadata": {},
   "outputs": [],
   "source": [
    "# Date column to datetime in case needed\n",
    "\n",
    "df['date'] = pd.to_datetime(df['date'])"
   ]
  },
  {
   "cell_type": "code",
   "execution_count": null,
   "id": "f1de0504",
   "metadata": {},
   "outputs": [],
   "source": [
    "df['date'].value_counts(normalize=True)"
   ]
  },
  {
   "cell_type": "code",
   "execution_count": null,
   "id": "ba9356f9",
   "metadata": {},
   "outputs": [],
   "source": [
    "# Get info per session instead of per value\n",
    "df.pivot_table(index=['session_id'], values=['premium']).value_counts()"
   ]
  },
  {
   "cell_type": "markdown",
   "id": "32e3490a",
   "metadata": {},
   "source": [
    "There are about 80% premium users, and 20% free users. "
   ]
  },
  {
   "cell_type": "markdown",
   "id": "a7f3463e",
   "metadata": {},
   "source": [
    "#### Heat map to view correlation of track features:"
   ]
  },
  {
   "cell_type": "code",
   "execution_count": null,
   "id": "2f5acc3f",
   "metadata": {},
   "outputs": [],
   "source": [
    "seaborn.heatmap(tracks.drop(['track_id', 'mode'], axis=1).corr())"
   ]
  },
  {
   "cell_type": "markdown",
   "id": "53a43f69",
   "metadata": {},
   "source": [
    "Some correlation to with beat strength, danceability and energy. Acoustic vector 0 is also negatively correalted to these as well. "
   ]
  },
  {
   "cell_type": "code",
   "execution_count": null,
   "id": "c5e21fc3",
   "metadata": {},
   "outputs": [],
   "source": [
    "df.describe()"
   ]
  },
  {
   "cell_type": "markdown",
   "id": "6ae68241",
   "metadata": {},
   "source": [
    "Some things that stick out after looking at the stats:\n",
    "- the maximums for seek forward and back are oddly high\n",
    "- One of the songs is close to 20 min, shorted song is 30 sec\n",
    "- Earliest release date is 1950s"
   ]
  },
  {
   "cell_type": "markdown",
   "id": "9bdabdef",
   "metadata": {},
   "source": [
    "Addressing the outliers for Seek Forward and Backwards. Decided to encode these as a boolean below. This means that they fastforwarded or rewinded the current track at least once. "
   ]
  },
  {
   "cell_type": "code",
   "execution_count": null,
   "id": "187e1591",
   "metadata": {},
   "outputs": [],
   "source": [
    "df['hist_seekfwd'].replace(range(1, 200), 1, inplace=True)"
   ]
  },
  {
   "cell_type": "code",
   "execution_count": null,
   "id": "d2cf9389",
   "metadata": {},
   "outputs": [],
   "source": [
    "df['hist_seekback'].replace(range(1, 200), 1, inplace=True)"
   ]
  },
  {
   "cell_type": "markdown",
   "id": "18d2d69a",
   "metadata": {},
   "source": [
    "#### The following section views the current value counts and their percentages"
   ]
  },
  {
   "cell_type": "code",
   "execution_count": null,
   "id": "ca30a93f",
   "metadata": {},
   "outputs": [],
   "source": [
    "for column in df.columns:\n",
    "    print(f\"\\n{column.title()}:\")\n",
    "    print(df[column].value_counts())\n",
    "    print(df[column].value_counts(normalize=True))"
   ]
  },
  {
   "cell_type": "markdown",
   "id": "541049ec",
   "metadata": {},
   "source": [
    "#### Checking out the energy of a song and the time of day. Followed by categorical encoding using pandas get_dummies(). Hour of day and Context type will be encoded."
   ]
  },
  {
   "cell_type": "code",
   "execution_count": null,
   "id": "1d903162",
   "metadata": {},
   "outputs": [],
   "source": [
    "df.pivot_table(index=['hour_of_day'], values=['energy', 'valence', 'danceability'])"
   ]
  },
  {
   "cell_type": "code",
   "execution_count": null,
   "id": "10ff4814",
   "metadata": {},
   "outputs": [],
   "source": [
    "df.pivot_table(index=['hour_of_day'], values=['skipped'])"
   ]
  },
  {
   "cell_type": "markdown",
   "id": "898ccd62",
   "metadata": {},
   "source": [
    "There is a drop in skipping in the morning."
   ]
  },
  {
   "cell_type": "code",
   "execution_count": null,
   "id": "bde65e6a",
   "metadata": {},
   "outputs": [],
   "source": [
    "df.pivot_table(index=['session_position'], values=['skipped']).T"
   ]
  },
  {
   "cell_type": "markdown",
   "id": "280d82d3",
   "metadata": {},
   "source": [
    "People are skipping slightly more later into their session."
   ]
  },
  {
   "cell_type": "code",
   "execution_count": null,
   "id": "809fc90d",
   "metadata": {},
   "outputs": [],
   "source": [
    "df.pivot_table(index=['premium'], values=['skipped'])"
   ]
  },
  {
   "cell_type": "markdown",
   "id": "67963826",
   "metadata": {},
   "source": [
    "#### Encoding `hour_of_day` and `context type` categorical variables."
   ]
  },
  {
   "cell_type": "code",
   "execution_count": null,
   "id": "0d440596",
   "metadata": {},
   "outputs": [],
   "source": [
    "hour_of_day_dummies = pd.get_dummies(df['hour_of_day'])"
   ]
  },
  {
   "cell_type": "code",
   "execution_count": null,
   "id": "1dbc6279",
   "metadata": {},
   "outputs": [],
   "source": [
    "df = pd.concat([df, hour_of_day_dummies], axis=1)"
   ]
  },
  {
   "cell_type": "code",
   "execution_count": null,
   "id": "32042735",
   "metadata": {},
   "outputs": [],
   "source": [
    "df.drop('hour_of_day', axis=1, inplace=True)"
   ]
  },
  {
   "cell_type": "code",
   "execution_count": null,
   "id": "9492a420",
   "metadata": {},
   "outputs": [],
   "source": [
    "context_dummies = pd.get_dummies(df['context_type'])"
   ]
  },
  {
   "cell_type": "code",
   "execution_count": null,
   "id": "46854661",
   "metadata": {},
   "outputs": [],
   "source": [
    "df = pd.concat([df, context_dummies], axis=1)"
   ]
  },
  {
   "cell_type": "markdown",
   "id": "51f8df83",
   "metadata": {},
   "source": [
    "#### Dropping `context_switch` and `hist_user_behavior_reason_end` as they dont add much value to this analysis."
   ]
  },
  {
   "cell_type": "code",
   "execution_count": null,
   "id": "35799872",
   "metadata": {},
   "outputs": [],
   "source": [
    "df.drop(labels=['hist_user_behavior_reason_end', 'context_switch'], axis=1, inplace=True)"
   ]
  },
  {
   "cell_type": "markdown",
   "id": "79d47b60",
   "metadata": {},
   "source": [
    "#### Convert release year to `years old`."
   ]
  },
  {
   "cell_type": "code",
   "execution_count": null,
   "id": "477dd6c5",
   "metadata": {},
   "outputs": [],
   "source": [
    "df['years_old'] = [(2018 - x) for x in df['release_year']]"
   ]
  },
  {
   "cell_type": "code",
   "execution_count": null,
   "id": "1428d00f",
   "metadata": {},
   "outputs": [],
   "source": [
    "to_drop = ['context_type', 'bounciness', 'liveness', 'mechanism', 'mode', 'release_year']"
   ]
  },
  {
   "cell_type": "code",
   "execution_count": null,
   "id": "be7e3025",
   "metadata": {},
   "outputs": [],
   "source": [
    "df.drop(labels=to_drop, axis=1, inplace=True)"
   ]
  },
  {
   "cell_type": "markdown",
   "id": "5eb9714d",
   "metadata": {},
   "source": [
    "#### Reorder column names so all track information is on the tail end."
   ]
  },
  {
   "cell_type": "code",
   "execution_count": null,
   "id": "795ae97c",
   "metadata": {},
   "outputs": [],
   "source": [
    "df.columns"
   ]
  },
  {
   "cell_type": "code",
   "execution_count": null,
   "id": "7279448b",
   "metadata": {},
   "outputs": [],
   "source": [
    "df = df[['session_id', 'session_position', 'session_length', 'date', 'EarlyAM', 'Evening',\n",
    "       'LateAMEarlyPM', 'LatePM', 'Night', 'track_id',\n",
    "       'skipped', 'hist_seekfwd', 'hist_seekback', 'hist_shuffle', \n",
    "       'premium', 'hist_user_behavior_reason_start', 'pause_before_play', 'catalog', 'charts',\n",
    "       'editorial_playlist', 'personalized_playlist', 'radio',\n",
    "       'user_collection', 'duration',\n",
    "       'years_old', 'popularity', 'acousticness', 'beat_strength',\n",
    "       'danceability', 'dyn_range_mean', 'energy', 'flatness',\n",
    "       'instrumentalness', 'key', 'loudness', 'organism', 'speechiness',\n",
    "       'tempo', 'time_signature', 'valence', 'acoustic_vector_0',\n",
    "       'acoustic_vector_1', 'acoustic_vector_2', 'acoustic_vector_3',\n",
    "       'acoustic_vector_4', 'acoustic_vector_5', 'acoustic_vector_6',\n",
    "       'acoustic_vector_7']]"
   ]
  },
  {
   "cell_type": "markdown",
   "id": "b9c3864c",
   "metadata": {},
   "source": [
    "### Convert final dataframe to CSV to use for modeling."
   ]
  },
  {
   "cell_type": "code",
   "execution_count": null,
   "id": "fcb74376",
   "metadata": {},
   "outputs": [],
   "source": [
    "#df.to_csv('tracks_session_clean.csv')"
   ]
  },
  {
   "cell_type": "code",
   "execution_count": null,
   "id": "9de04bf2",
   "metadata": {},
   "outputs": [],
   "source": []
  }
 ],
 "metadata": {
  "kernelspec": {
   "display_name": "Python 3 (ipykernel)",
   "language": "python",
   "name": "python3"
  },
  "language_info": {
   "codemirror_mode": {
    "name": "ipython",
    "version": 3
   },
   "file_extension": ".py",
   "mimetype": "text/x-python",
   "name": "python",
   "nbconvert_exporter": "python",
   "pygments_lexer": "ipython3",
   "version": "3.9.13"
  }
 },
 "nbformat": 4,
 "nbformat_minor": 5
}
