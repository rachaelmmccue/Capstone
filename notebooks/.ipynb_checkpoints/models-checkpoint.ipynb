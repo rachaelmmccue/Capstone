{
 "cells": [
  {
   "cell_type": "markdown",
   "id": "e39ee628",
   "metadata": {},
   "source": [
    "## Baseline Model and Improved Versions\n",
    "\n",
    "This notebook explores important features with Decision Tree and uses LogReg as a baseline model.\n",
    "The baseline then gets improved by limiting features, using GridSearchCV, scaling and SMOTE."
   ]
  },
  {
   "cell_type": "code",
   "execution_count": 1,
   "id": "3efce86c",
   "metadata": {},
   "outputs": [],
   "source": [
    "import pandas as pd\n",
    "import numpy as np\n",
    "from sklearn.tree import DecisionTreeClassifier\n",
    "from sklearn.model_selection import train_test_split, GridSearchCV\n",
    "from sklearn.metrics import ConfusionMatrixDisplay, confusion_matrix, precision_score, log_loss, recall_score\n",
    "from sklearn.linear_model import LogisticRegression\n",
    "from sklearn.preprocessing import StandardScaler\n",
    "from sklearn.ensemble import GradientBoostingClassifier\n",
    "\n",
    "from imblearn.pipeline import Pipeline\n",
    "from imblearn.over_sampling import SMOTE\n",
    "\n",
    "\n",
    "# Manual Train test split -- splits session ID in .70 of the session for train and .3 of the session for test.\n",
    "#Returns a train dataframe and a test\n",
    "from src.train_test_split_df import *"
   ]
  },
  {
   "cell_type": "code",
   "execution_count": 2,
   "id": "18806451",
   "metadata": {},
   "outputs": [],
   "source": [
    "df = pd.read_csv('../data/tracks_session_clean.csv', index_col=0)"
   ]
  },
  {
   "cell_type": "code",
   "execution_count": null,
   "id": "05d96407",
   "metadata": {},
   "outputs": [],
   "source": [
    "df.info()"
   ]
  },
  {
   "cell_type": "code",
   "execution_count": null,
   "id": "79ce683a",
   "metadata": {},
   "outputs": [],
   "source": [
    "drop_col = ['session_id', 'session_length', 'date', 'track_id', 'hist_user_behavior_reason_start', 'beat_strength', 'dyn_range_mean']\n",
    "def drop(df):\n",
    "    df = df.drop(labels=drop_col, axis=1)\n",
    "    return df"
   ]
  },
  {
   "cell_type": "markdown",
   "id": "6bb54ee1",
   "metadata": {},
   "source": [
    "### Decision Tree"
   ]
  },
  {
   "cell_type": "code",
   "execution_count": null,
   "id": "b61b095d",
   "metadata": {},
   "outputs": [],
   "source": [
    "Train, test = train_test_split_df(df)"
   ]
  },
  {
   "cell_type": "code",
   "execution_count": null,
   "id": "aa17c6ef",
   "metadata": {},
   "outputs": [],
   "source": [
    "Train = drop(Train)\n",
    "Test = drop(test)"
   ]
  },
  {
   "cell_type": "code",
   "execution_count": null,
   "id": "75968d57",
   "metadata": {},
   "outputs": [],
   "source": [
    "Train['skipped'].value_counts(normalize=True)"
   ]
  },
  {
   "cell_type": "code",
   "execution_count": null,
   "id": "8065e3fb",
   "metadata": {},
   "outputs": [],
   "source": [
    "X_train = Train.drop('skipped', axis=1)\n",
    "X_test = Test.drop('skipped', axis=1)\n",
    "y_train = Train['skipped']\n",
    "y_test = Test['skipped']"
   ]
  },
  {
   "cell_type": "code",
   "execution_count": null,
   "id": "d4d4de9d",
   "metadata": {},
   "outputs": [],
   "source": [
    "dt = DecisionTreeClassifier()"
   ]
  },
  {
   "cell_type": "code",
   "execution_count": null,
   "id": "fbceed81",
   "metadata": {},
   "outputs": [],
   "source": [
    "param_grid = {'max_depth': range(2, 11),\n",
    "             'min_samples_split': range(2,5)\n",
    "             }\n",
    "gs = GridSearchCV(dt, param_grid)\n",
    "gs.fit(X_train, y_train)"
   ]
  },
  {
   "cell_type": "code",
   "execution_count": null,
   "id": "e8917bdb",
   "metadata": {},
   "outputs": [],
   "source": [
    "gs.best_params_"
   ]
  },
  {
   "cell_type": "code",
   "execution_count": null,
   "id": "2e4741ca",
   "metadata": {},
   "outputs": [],
   "source": [
    "dt = DecisionTreeClassifier(max_depth=8)"
   ]
  },
  {
   "cell_type": "code",
   "execution_count": null,
   "id": "8ef5acb4",
   "metadata": {},
   "outputs": [],
   "source": [
    "dt.fit(X_train, y_train)\n",
    "dt.score(X_test, y_test)"
   ]
  },
  {
   "cell_type": "code",
   "execution_count": null,
   "id": "59e6b6c7",
   "metadata": {},
   "outputs": [],
   "source": [
    "features=X_train.columns.tolist()\n",
    "important = dt.feature_importances_\n",
    "important_features = pd.DataFrame(important, index=features, columns=['Important'])\n",
    "important_features.sort_values('Important', ascending=False).head(15)"
   ]
  },
  {
   "cell_type": "code",
   "execution_count": null,
   "id": "cba05f59",
   "metadata": {},
   "outputs": [],
   "source": [
    "preds= dt.predict(X_test)"
   ]
  },
  {
   "cell_type": "code",
   "execution_count": null,
   "id": "cb98ed12",
   "metadata": {},
   "outputs": [],
   "source": [
    "cm = confusion_matrix(y_test, preds)\n",
    "ConfusionMatrixDisplay(cm).plot()"
   ]
  },
  {
   "cell_type": "code",
   "execution_count": null,
   "id": "e14b9b93",
   "metadata": {},
   "outputs": [],
   "source": [
    "precision_score(y_test, preds)"
   ]
  },
  {
   "cell_type": "markdown",
   "id": "824f37e5",
   "metadata": {},
   "source": [
    "Important features causing skips:\n",
    "\n",
    "- pause_before_play\t\n",
    "- catalog\t\n",
    "- hist_seekback\t\n",
    "- radio\t\n",
    "- editorial_playlist\n",
    "- hist_shuffle\n",
    "- hist_seekfwd\n",
    "- session_position"
   ]
  },
  {
   "cell_type": "markdown",
   "id": "46b5635e",
   "metadata": {},
   "source": [
    "# Logistic Regression"
   ]
  },
  {
   "cell_type": "code",
   "execution_count": null,
   "id": "9da9902f",
   "metadata": {},
   "outputs": [],
   "source": [
    "Train, test = train_test_split_df(df)"
   ]
  },
  {
   "cell_type": "code",
   "execution_count": null,
   "id": "fd449eba",
   "metadata": {},
   "outputs": [],
   "source": [
    "Train = drop(Train)\n",
    "Test = drop(test)"
   ]
  },
  {
   "cell_type": "code",
   "execution_count": null,
   "id": "c5287ffd",
   "metadata": {},
   "outputs": [],
   "source": [
    "X_train = Train['pause_before_play'].array.reshape(-1, 1)\n",
    "X_test = Test['pause_before_play'].array.reshape(-1, 1)\n",
    "y_train = Train['skipped']\n",
    "y_test = Test['skipped']"
   ]
  },
  {
   "cell_type": "code",
   "execution_count": null,
   "id": "5099ce62",
   "metadata": {},
   "outputs": [],
   "source": [
    "logreg = LogisticRegression()"
   ]
  },
  {
   "cell_type": "code",
   "execution_count": null,
   "id": "7cd37770",
   "metadata": {},
   "outputs": [],
   "source": [
    "param_grid = {'penalty': ['l2'],\n",
    "             'C': [.1, 10, 100, 1000, 10000],\n",
    "              'solver': ['liblinear', 'newton-cg'],\n",
    "             }\n",
    "gs = GridSearchCV(logreg, param_grid)"
   ]
  },
  {
   "cell_type": "code",
   "execution_count": null,
   "id": "b24deed0",
   "metadata": {},
   "outputs": [],
   "source": [
    "gs.fit(X_train, y_train)"
   ]
  },
  {
   "cell_type": "code",
   "execution_count": null,
   "id": "51801fba",
   "metadata": {},
   "outputs": [],
   "source": [
    "gs.best_params_"
   ]
  },
  {
   "cell_type": "code",
   "execution_count": null,
   "id": "26f39b6b",
   "metadata": {},
   "outputs": [],
   "source": [
    "logreg = LogisticRegression(penalty='l2', C=.1, solver='liblinear')"
   ]
  },
  {
   "cell_type": "code",
   "execution_count": null,
   "id": "1fe8cfd8",
   "metadata": {},
   "outputs": [],
   "source": [
    "logreg.fit(X_train, y_train)"
   ]
  },
  {
   "cell_type": "code",
   "execution_count": null,
   "id": "91034a66",
   "metadata": {},
   "outputs": [],
   "source": [
    "logreg.score(X_test, y_test)"
   ]
  },
  {
   "cell_type": "code",
   "execution_count": null,
   "id": "ac1bd61e",
   "metadata": {},
   "outputs": [],
   "source": [
    "coef = logreg.coef_"
   ]
  },
  {
   "cell_type": "code",
   "execution_count": null,
   "id": "c6d29a57",
   "metadata": {},
   "outputs": [],
   "source": [
    "odds = np.exp(coef)\n",
    "odds.astype(float)"
   ]
  },
  {
   "cell_type": "markdown",
   "id": "442d83f1",
   "metadata": {},
   "source": [
    "If there is a pause before playing, that improves the chance of skipping by 1.76 times. "
   ]
  },
  {
   "cell_type": "markdown",
   "id": "85149fc0",
   "metadata": {},
   "source": [
    "# Logistic Regression version 2"
   ]
  },
  {
   "cell_type": "code",
   "execution_count": null,
   "id": "1bca6bd4",
   "metadata": {},
   "outputs": [],
   "source": [
    "#Train, test = train_test_split_df(df)"
   ]
  },
  {
   "cell_type": "code",
   "execution_count": null,
   "id": "42f15bf0",
   "metadata": {},
   "outputs": [],
   "source": [
    "#Train = drop(Train)\n",
    "#Test = drop(test)"
   ]
  },
  {
   "cell_type": "code",
   "execution_count": null,
   "id": "d8f36448",
   "metadata": {},
   "outputs": [],
   "source": [
    "#X_train = Train[['pause_before_play', 'session_position', 'catalog', 'hist_shuffle', 'premium']]\n",
    "#X_test = Test[['pause_before_play', 'session_position', 'catalog', 'hist_shuffle', 'premium']]\n",
    "#y_train = Train['skipped']\n",
    "#y_test = Test['skipped']"
   ]
  },
  {
   "cell_type": "code",
   "execution_count": null,
   "id": "f0cc6594",
   "metadata": {},
   "outputs": [],
   "source": [
    "df = drop(df)"
   ]
  },
  {
   "cell_type": "code",
   "execution_count": null,
   "id": "2b15c126",
   "metadata": {},
   "outputs": [],
   "source": [
    "X = df[['pause_before_play', 'session_position', 'catalog', 'hist_shuffle', 'premium']]\n",
    "y = df['skipped']\n",
    "\n",
    "X_train, X_test, y_train, y_test = train_test_split(X, y)"
   ]
  },
  {
   "cell_type": "code",
   "execution_count": null,
   "id": "371cecaf",
   "metadata": {},
   "outputs": [],
   "source": [
    "scaled_pipeline = Pipeline([('smote', SMOTE(random_state=42)),\n",
    "                            ('scaler', StandardScaler()), \n",
    "                            ('logreg', LogisticRegression(random_state=42))])"
   ]
  },
  {
   "cell_type": "code",
   "execution_count": null,
   "id": "b42b7005",
   "metadata": {},
   "outputs": [],
   "source": [
    "scaled_pipeline.fit(X_train, y_train)\n",
    "\n",
    "scaled_pipeline.score(X_test, y_test)"
   ]
  },
  {
   "cell_type": "code",
   "execution_count": null,
   "id": "16e94b79",
   "metadata": {},
   "outputs": [],
   "source": [
    "grid = [{'logreg__C': [0.1, 1, 10, 100, 1000, 10000], \n",
    "         'logreg__solver': ['liblinear', 'newton-cg', 'lbfgs'], \n",
    "         'logreg__penalty': ['l2']}]"
   ]
  },
  {
   "cell_type": "code",
   "execution_count": null,
   "id": "4fcbd83d",
   "metadata": {},
   "outputs": [],
   "source": [
    "gridsearch = GridSearchCV(estimator=scaled_pipeline, \n",
    "                          param_grid=grid, \n",
    "                          scoring='recall', \n",
    "                          cv=3)"
   ]
  },
  {
   "cell_type": "code",
   "execution_count": null,
   "id": "ce4e6481",
   "metadata": {},
   "outputs": [],
   "source": [
    "gridsearch.fit(X_train, y_train)\n",
    "\n",
    "gridsearch.score(X_test, y_test)"
   ]
  },
  {
   "cell_type": "code",
   "execution_count": null,
   "id": "559cfda8",
   "metadata": {},
   "outputs": [],
   "source": [
    "gridsearch.best_estimator_"
   ]
  },
  {
   "cell_type": "code",
   "execution_count": null,
   "id": "96ac34f2",
   "metadata": {},
   "outputs": [],
   "source": [
    "y_pred = gridsearch.predict(X_test)"
   ]
  },
  {
   "cell_type": "code",
   "execution_count": null,
   "id": "32a8c788",
   "metadata": {},
   "outputs": [],
   "source": [
    "recall_score(y_test, y_pred)"
   ]
  },
  {
   "cell_type": "code",
   "execution_count": null,
   "id": "484d1e3c",
   "metadata": {},
   "outputs": [],
   "source": [
    "cm = confusion_matrix(y_test, y_pred)\n",
    "ConfusionMatrixDisplay(cm).plot()"
   ]
  },
  {
   "cell_type": "markdown",
   "id": "3e9b8c30",
   "metadata": {},
   "source": [
    "# Gradient Boosting Classifier"
   ]
  },
  {
   "cell_type": "code",
   "execution_count": null,
   "id": "0e53038b",
   "metadata": {},
   "outputs": [],
   "source": [
    "X = df[['pause_before_play', 'session_position', 'catalog', 'hist_shuffle', 'premium']]\n",
    "y = df['skipped']\n",
    "\n",
    "X_train, X_test, y_train, y_test = train_test_split(X, y)"
   ]
  },
  {
   "cell_type": "code",
   "execution_count": null,
   "id": "80033e34",
   "metadata": {},
   "outputs": [],
   "source": [
    "scaled_pipeline = Pipeline([('smote', SMOTE(random_state=42)),\n",
    "                            ('scaler', StandardScaler()), \n",
    "                            ('boost', GradientBoostingClassifier(random_state=42))])"
   ]
  },
  {
   "cell_type": "code",
   "execution_count": null,
   "id": "cd2aa747",
   "metadata": {},
   "outputs": [],
   "source": [
    "scaled_pipeline.fit(X_train, y_train)"
   ]
  },
  {
   "cell_type": "code",
   "execution_count": null,
   "id": "d9c133dc",
   "metadata": {},
   "outputs": [],
   "source": [
    "grid = [{'boost__max_depth': [2, 3, 4, 5, 6], \n",
    "         'boost__learning_rate': [.01, .1, 1]}]"
   ]
  },
  {
   "cell_type": "code",
   "execution_count": null,
   "id": "631307a7",
   "metadata": {},
   "outputs": [],
   "source": [
    "gridsearch = GridSearchCV(estimator=scaled_pipeline, \n",
    "                          param_grid=grid, \n",
    "                          scoring='recall', \n",
    "                          cv=3)"
   ]
  },
  {
   "cell_type": "code",
   "execution_count": null,
   "id": "5da06454",
   "metadata": {},
   "outputs": [],
   "source": [
    "gridsearch.fit(X_train, y_train)"
   ]
  },
  {
   "cell_type": "code",
   "execution_count": null,
   "id": "ab45468b",
   "metadata": {},
   "outputs": [],
   "source": [
    "gridsearch.best_estimator_"
   ]
  },
  {
   "cell_type": "code",
   "execution_count": null,
   "id": "5e3509a8",
   "metadata": {},
   "outputs": [],
   "source": [
    "gridsearch.score(X_test, y_test)"
   ]
  },
  {
   "cell_type": "code",
   "execution_count": null,
   "id": "b1db0fc6",
   "metadata": {},
   "outputs": [],
   "source": []
  }
 ],
 "metadata": {
  "kernelspec": {
   "display_name": "Python 3 (ipykernel)",
   "language": "python",
   "name": "python3"
  },
  "language_info": {
   "codemirror_mode": {
    "name": "ipython",
    "version": 3
   },
   "file_extension": ".py",
   "mimetype": "text/x-python",
   "name": "python",
   "nbconvert_exporter": "python",
   "pygments_lexer": "ipython3",
   "version": "3.9.13"
  }
 },
 "nbformat": 4,
 "nbformat_minor": 5
}
