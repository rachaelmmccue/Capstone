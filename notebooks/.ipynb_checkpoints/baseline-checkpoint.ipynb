{
 "cells": [
  {
   "cell_type": "markdown",
   "id": "e39ee628",
   "metadata": {},
   "source": [
    "## Modeling Process\n",
    "\n",
    "\n",
    "This notebook explores important features with Decision Tree and uses Logistic Regression as a baseline model, since this is a binary categorical outcome. \n",
    "The baseline then gets improved by limiting features, using GridSearchCV, scaling and SMOTE. Gradient Boosting Classifier was also used.\n",
    "\n",
    "This modeling method ignores the sequential aspect of the listening session, and is drawing information from general skipping behavior only amongst the masses and their behavioral and environmental features. Consider viewing the RNN model afterwards for futher progress. \n",
    "\n",
    "I explored all the basic metrics in SciKit Learn-- accuracy, precision, recall, and F1-- with mainly a focus on precision and F1.  \n",
    "\n",
    "[Baseline](#Logisitic-Regression)\n",
    "\n",
    "[Tuned Logistic Regression](#Tuned-Logistic-Regression)\n",
    "\n",
    "[Gradient Boosting](#Gradient-Boosting)"
   ]
  },
  {
   "cell_type": "markdown",
   "id": "89b753f0",
   "metadata": {},
   "source": [
    "#### Import necessary libraries"
   ]
  },
  {
   "cell_type": "code",
   "execution_count": 1,
   "id": "3efce86c",
   "metadata": {},
   "outputs": [],
   "source": [
    "import pandas as pd\n",
    "import numpy as np\n",
    "from sklearn.tree import DecisionTreeClassifier\n",
    "from sklearn.model_selection import train_test_split, GridSearchCV\n",
    "from sklearn.metrics import ConfusionMatrixDisplay, confusion_matrix, precision_score, log_loss, recall_score, f1_score\n",
    "from sklearn.linear_model import LogisticRegression\n",
    "from sklearn.preprocessing import StandardScaler\n",
    "from sklearn.ensemble import GradientBoostingClassifier\n",
    "from imblearn.pipeline import Pipeline\n",
    "from imblearn.over_sampling import SMOTE\n",
    "\n",
    "\n",
    "# Manual Train test split -- splits session ID in .70 of the session for train and .3 of the session for test.\n",
    "#Returns a train dataframe and a test\n",
    "from src.train_test_split_df import *"
   ]
  },
  {
   "cell_type": "code",
   "execution_count": 2,
   "id": "18806451",
   "metadata": {},
   "outputs": [],
   "source": [
    "df = pd.read_csv('../data/tracks_session_clean.csv', index_col=0)"
   ]
  },
  {
   "cell_type": "code",
   "execution_count": 3,
   "id": "79ce683a",
   "metadata": {},
   "outputs": [],
   "source": [
    "#columns are either not relevant for modeling, or mulitcolinear \n",
    "drop_col = ['session_id', 'session_length', 'date', 'track_id', 'hist_user_behavior_reason_start', 'beat_strength', 'dyn_range_mean']\n",
    "def drop(df):\n",
    "    df = df.drop(labels=drop_col, axis=1)\n",
    "    return df"
   ]
  },
  {
   "cell_type": "markdown",
   "id": "6bb54ee1",
   "metadata": {},
   "source": [
    "### Decision Tree"
   ]
  },
  {
   "cell_type": "code",
   "execution_count": 4,
   "id": "b61b095d",
   "metadata": {},
   "outputs": [],
   "source": [
    "#The train test split is custom. Its takes in the first 15 rows as train, and final 5 as test.\n",
    "#It returns two DataFrames for train and test\n",
    "Train, test = train_test_split_df(df)"
   ]
  },
  {
   "cell_type": "code",
   "execution_count": 5,
   "id": "aa17c6ef",
   "metadata": {},
   "outputs": [],
   "source": [
    "Train = drop(Train)\n",
    "Test = drop(test)"
   ]
  },
  {
   "cell_type": "code",
   "execution_count": 6,
   "id": "75968d57",
   "metadata": {},
   "outputs": [
    {
     "data": {
      "text/plain": [
       "1    0.527374\n",
       "0    0.472626\n",
       "Name: skipped, dtype: float64"
      ]
     },
     "execution_count": 6,
     "metadata": {},
     "output_type": "execute_result"
    }
   ],
   "source": [
    "#checking the target balance\n",
    "Train['skipped'].value_counts(normalize=True)"
   ]
  },
  {
   "cell_type": "code",
   "execution_count": 7,
   "id": "8065e3fb",
   "metadata": {},
   "outputs": [],
   "source": [
    "X_train = Train.drop('skipped', axis=1)\n",
    "X_test = Test.drop('skipped', axis=1)\n",
    "y_train = Train['skipped']\n",
    "y_test = Test['skipped']"
   ]
  },
  {
   "cell_type": "code",
   "execution_count": 8,
   "id": "d4d4de9d",
   "metadata": {},
   "outputs": [],
   "source": [
    "dt = DecisionTreeClassifier()"
   ]
  },
  {
   "cell_type": "code",
   "execution_count": 9,
   "id": "fbceed81",
   "metadata": {},
   "outputs": [
    {
     "data": {
      "text/plain": [
       "GridSearchCV(estimator=DecisionTreeClassifier(),\n",
       "             param_grid={'max_depth': range(2, 11),\n",
       "                         'min_samples_split': range(2, 5)})"
      ]
     },
     "execution_count": 9,
     "metadata": {},
     "output_type": "execute_result"
    }
   ],
   "source": [
    "param_grid = {'max_depth': range(2, 11),\n",
    "             'min_samples_split': range(2,5)\n",
    "             }\n",
    "gs = GridSearchCV(dt, param_grid)\n",
    "gs.fit(X_train, y_train)"
   ]
  },
  {
   "cell_type": "code",
   "execution_count": 10,
   "id": "e8917bdb",
   "metadata": {},
   "outputs": [
    {
     "data": {
      "text/plain": [
       "{'max_depth': 7, 'min_samples_split': 4}"
      ]
     },
     "execution_count": 10,
     "metadata": {},
     "output_type": "execute_result"
    }
   ],
   "source": [
    "gs.best_params_"
   ]
  },
  {
   "cell_type": "code",
   "execution_count": 11,
   "id": "2e4741ca",
   "metadata": {},
   "outputs": [],
   "source": [
    "dt = DecisionTreeClassifier(max_depth=7, min_samples_split=4)"
   ]
  },
  {
   "cell_type": "code",
   "execution_count": 12,
   "id": "8ef5acb4",
   "metadata": {},
   "outputs": [
    {
     "name": "stdout",
     "output_type": "stream",
     "text": [
      "0.5882395603332957\n",
      "0.5340976567852739\n"
     ]
    }
   ],
   "source": [
    "dt.fit(X_train, y_train)\n",
    "print(dt.score(X_train, y_train))\n",
    "print(dt.score(X_test, y_test))"
   ]
  },
  {
   "cell_type": "code",
   "execution_count": 13,
   "id": "59e6b6c7",
   "metadata": {},
   "outputs": [
    {
     "data": {
      "text/html": [
       "<div>\n",
       "<style scoped>\n",
       "    .dataframe tbody tr th:only-of-type {\n",
       "        vertical-align: middle;\n",
       "    }\n",
       "\n",
       "    .dataframe tbody tr th {\n",
       "        vertical-align: top;\n",
       "    }\n",
       "\n",
       "    .dataframe thead th {\n",
       "        text-align: right;\n",
       "    }\n",
       "</style>\n",
       "<table border=\"1\" class=\"dataframe\">\n",
       "  <thead>\n",
       "    <tr style=\"text-align: right;\">\n",
       "      <th></th>\n",
       "      <th>Important</th>\n",
       "    </tr>\n",
       "  </thead>\n",
       "  <tbody>\n",
       "    <tr>\n",
       "      <th>pause_before_play</th>\n",
       "      <td>0.320659</td>\n",
       "    </tr>\n",
       "    <tr>\n",
       "      <th>catalog</th>\n",
       "      <td>0.094622</td>\n",
       "    </tr>\n",
       "    <tr>\n",
       "      <th>hist_seekback</th>\n",
       "      <td>0.072806</td>\n",
       "    </tr>\n",
       "    <tr>\n",
       "      <th>session_position</th>\n",
       "      <td>0.067757</td>\n",
       "    </tr>\n",
       "    <tr>\n",
       "      <th>hist_shuffle</th>\n",
       "      <td>0.066255</td>\n",
       "    </tr>\n",
       "    <tr>\n",
       "      <th>premium</th>\n",
       "      <td>0.042743</td>\n",
       "    </tr>\n",
       "    <tr>\n",
       "      <th>radio</th>\n",
       "      <td>0.039758</td>\n",
       "    </tr>\n",
       "    <tr>\n",
       "      <th>hist_seekfwd</th>\n",
       "      <td>0.031671</td>\n",
       "    </tr>\n",
       "    <tr>\n",
       "      <th>editorial_playlist</th>\n",
       "      <td>0.029055</td>\n",
       "    </tr>\n",
       "    <tr>\n",
       "      <th>instrumentalness</th>\n",
       "      <td>0.027021</td>\n",
       "    </tr>\n",
       "    <tr>\n",
       "      <th>acoustic_vector_0</th>\n",
       "      <td>0.025783</td>\n",
       "    </tr>\n",
       "    <tr>\n",
       "      <th>popularity</th>\n",
       "      <td>0.024336</td>\n",
       "    </tr>\n",
       "    <tr>\n",
       "      <th>years_old</th>\n",
       "      <td>0.022541</td>\n",
       "    </tr>\n",
       "    <tr>\n",
       "      <th>acoustic_vector_6</th>\n",
       "      <td>0.016630</td>\n",
       "    </tr>\n",
       "    <tr>\n",
       "      <th>duration</th>\n",
       "      <td>0.014703</td>\n",
       "    </tr>\n",
       "  </tbody>\n",
       "</table>\n",
       "</div>"
      ],
      "text/plain": [
       "                    Important\n",
       "pause_before_play    0.320659\n",
       "catalog              0.094622\n",
       "hist_seekback        0.072806\n",
       "session_position     0.067757\n",
       "hist_shuffle         0.066255\n",
       "premium              0.042743\n",
       "radio                0.039758\n",
       "hist_seekfwd         0.031671\n",
       "editorial_playlist   0.029055\n",
       "instrumentalness     0.027021\n",
       "acoustic_vector_0    0.025783\n",
       "popularity           0.024336\n",
       "years_old            0.022541\n",
       "acoustic_vector_6    0.016630\n",
       "duration             0.014703"
      ]
     },
     "execution_count": 13,
     "metadata": {},
     "output_type": "execute_result"
    }
   ],
   "source": [
    "features=X_train.columns.tolist()\n",
    "important = dt.feature_importances_\n",
    "important_features = pd.DataFrame(important, index=features, columns=['Important'])\n",
    "important_features.sort_values('Important', ascending=False).head(15)"
   ]
  },
  {
   "cell_type": "markdown",
   "id": "b209401c",
   "metadata": {},
   "source": [
    "Important features causing skips:\n",
    "\n",
    "- pause_before_play\t\n",
    "- catalog\t\n",
    "- hist_seekback\t\n",
    "- radio\t\n",
    "- editorial_playlist\n",
    "- hist_shuffle\n",
    "- hist_seekfwd\n",
    "- session_position"
   ]
  },
  {
   "cell_type": "code",
   "execution_count": 14,
   "id": "cba05f59",
   "metadata": {},
   "outputs": [],
   "source": [
    "preds= dt.predict(X_test)"
   ]
  },
  {
   "cell_type": "code",
   "execution_count": 15,
   "id": "abbd5366",
   "metadata": {},
   "outputs": [
    {
     "name": "stdout",
     "output_type": "stream",
     "text": [
      "0.5143400643839625\n",
      "0.8220299345182414\n",
      "0.6327632763276326\n"
     ]
    }
   ],
   "source": [
    "print(precision_score(y_test, preds))\n",
    "print(recall_score(y_test, preds))\n",
    "print(f1_score(y_test, preds))"
   ]
  },
  {
   "cell_type": "code",
   "execution_count": 16,
   "id": "cb98ed12",
   "metadata": {},
   "outputs": [
    {
     "data": {
      "text/plain": [
       "<sklearn.metrics._plot.confusion_matrix.ConfusionMatrixDisplay at 0x7fc8c4672e80>"
      ]
     },
     "execution_count": 16,
     "metadata": {},
     "output_type": "execute_result"
    },
    {
     "data": {
      "image/png": "[encoded data removed]",
      "text/plain": [
       "<Figure size 640x480 with 2 Axes>"
      ]
     },
     "metadata": {},
     "output_type": "display_data"
    }
   ],
   "source": [
    "cm = confusion_matrix(y_test, preds)\n",
    "ConfusionMatrixDisplay(cm).plot()"
   ]
  },
  {
   "cell_type": "markdown",
   "id": "46b5635e",
   "metadata": {},
   "source": [
    "# Logistic Regression"
   ]
  },
  {
   "cell_type": "markdown",
   "id": "9930262b",
   "metadata": {},
   "source": [
    "This logistic regression model explores the feature that stood out the most in the decision tree model, and that is if there was a pause before playing. "
   ]
  },
  {
   "cell_type": "code",
   "execution_count": 17,
   "id": "9da9902f",
   "metadata": {},
   "outputs": [],
   "source": [
    "Train, test = train_test_split_df(df)"
   ]
  },
  {
   "cell_type": "code",
   "execution_count": 18,
   "id": "fd449eba",
   "metadata": {},
   "outputs": [],
   "source": [
    "Train = drop(Train)\n",
    "Test = drop(test)"
   ]
  },
  {
   "cell_type": "code",
   "execution_count": 19,
   "id": "c5287ffd",
   "metadata": {},
   "outputs": [],
   "source": [
    "X_train = Train['pause_before_play'].array.reshape(-1, 1)\n",
    "X_test = Test['pause_before_play'].array.reshape(-1, 1)\n",
    "y_train = Train['skipped']\n",
    "y_test = Test['skipped']"
   ]
  },
  {
   "cell_type": "code",
   "execution_count": 20,
   "id": "5099ce62",
   "metadata": {},
   "outputs": [],
   "source": [
    "logreg = LogisticRegression()"
   ]
  },
  {
   "cell_type": "code",
   "execution_count": 21,
   "id": "7cd37770",
   "metadata": {},
   "outputs": [],
   "source": [
    "param_grid = {'penalty': ['l2'],\n",
    "             'C': [.1, 10, 100, 1000, 10000],\n",
    "              'solver': ['liblinear', 'newton-cg'],\n",
    "             }\n",
    "gs = GridSearchCV(logreg, param_grid)"
   ]
  },
  {
   "cell_type": "code",
   "execution_count": 22,
   "id": "b24deed0",
   "metadata": {},
   "outputs": [
    {
     "data": {
      "text/plain": [
       "GridSearchCV(estimator=LogisticRegression(),\n",
       "             param_grid={'C': [0.1, 10, 100, 1000, 10000], 'penalty': ['l2'],\n",
       "                         'solver': ['liblinear', 'newton-cg']})"
      ]
     },
     "execution_count": 22,
     "metadata": {},
     "output_type": "execute_result"
    }
   ],
   "source": [
    "gs.fit(X_train, y_train)"
   ]
  },
  {
   "cell_type": "code",
   "execution_count": 23,
   "id": "51801fba",
   "metadata": {},
   "outputs": [
    {
     "data": {
      "text/plain": [
       "{'C': 0.1, 'penalty': 'l2', 'solver': 'liblinear'}"
      ]
     },
     "execution_count": 23,
     "metadata": {},
     "output_type": "execute_result"
    }
   ],
   "source": [
    "gs.best_params_"
   ]
  },
  {
   "cell_type": "code",
   "execution_count": 24,
   "id": "26f39b6b",
   "metadata": {},
   "outputs": [],
   "source": [
    "logreg = LogisticRegression(penalty='l2', C=.1, solver='liblinear')"
   ]
  },
  {
   "cell_type": "code",
   "execution_count": 25,
   "id": "1fe8cfd8",
   "metadata": {},
   "outputs": [
    {
     "data": {
      "text/plain": [
       "LogisticRegression(C=0.1, solver='liblinear')"
      ]
     },
     "execution_count": 25,
     "metadata": {},
     "output_type": "execute_result"
    }
   ],
   "source": [
    "logreg.fit(X_train, y_train)"
   ]
  },
  {
   "cell_type": "code",
   "execution_count": 26,
   "id": "91034a66",
   "metadata": {},
   "outputs": [
    {
     "data": {
      "text/plain": [
       "0.516991732517243"
      ]
     },
     "execution_count": 26,
     "metadata": {},
     "output_type": "execute_result"
    }
   ],
   "source": [
    "print(logreg.score(X_train, y_train))\n",
    "print(logreg.score(X_test, y_test))"
   ]
  },
  {
   "cell_type": "code",
   "execution_count": 27,
   "id": "f820d187",
   "metadata": {},
   "outputs": [
    {
     "name": "stdout",
     "output_type": "stream",
     "text": [
      "0.503233392122281\n",
      "0.8407857811038354\n",
      "0.6296211975271887\n"
     ]
    }
   ],
   "source": [
    "y_pred = logreg.predict(X_test)\n",
    "print(precision_score(y_test, y_pred))\n",
    "print(recall_score(y_test, y_pred))\n",
    "print(f1_score(y_test, y_pred))"
   ]
  },
  {
   "cell_type": "code",
   "execution_count": 28,
   "id": "c1d6143e",
   "metadata": {},
   "outputs": [
    {
     "data": {
      "text/plain": [
       "<sklearn.metrics._plot.confusion_matrix.ConfusionMatrixDisplay at 0x7fc8926964f0>"
      ]
     },
     "execution_count": 28,
     "metadata": {},
     "output_type": "execute_result"
    },
    {
     "data": {
      "image/png": "[encoded data removed]",
      "text/plain": [
       "<Figure size 640x480 with 2 Axes>"
      ]
     },
     "metadata": {},
     "output_type": "display_data"
    }
   ],
   "source": [
    "cm = confusion_matrix(y_test, preds)\n",
    "ConfusionMatrixDisplay(cm).plot()"
   ]
  },
  {
   "cell_type": "code",
   "execution_count": 29,
   "id": "ac1bd61e",
   "metadata": {},
   "outputs": [],
   "source": [
    "coef = logreg.coef_"
   ]
  },
  {
   "cell_type": "code",
   "execution_count": 30,
   "id": "c6d29a57",
   "metadata": {},
   "outputs": [
    {
     "data": {
      "text/plain": [
       "array([[1.7620207]])"
      ]
     },
     "execution_count": 30,
     "metadata": {},
     "output_type": "execute_result"
    }
   ],
   "source": [
    "odds = np.exp(coef)\n",
    "odds.astype(float)"
   ]
  },
  {
   "cell_type": "markdown",
   "id": "442d83f1",
   "metadata": {},
   "source": [
    "If there is a pause before playing, that improves the chance of skipping by 1.76 times. "
   ]
  },
  {
   "cell_type": "markdown",
   "id": "85149fc0",
   "metadata": {},
   "source": [
    "# Tuned Logisitic Regressor"
   ]
  },
  {
   "cell_type": "code",
   "execution_count": 31,
   "id": "f0cc6594",
   "metadata": {},
   "outputs": [],
   "source": [
    "df = drop(df)"
   ]
  },
  {
   "cell_type": "code",
   "execution_count": 32,
   "id": "2b15c126",
   "metadata": {},
   "outputs": [],
   "source": [
    "X = df[['pause_before_play', 'session_position', 'catalog', 'hist_shuffle', 'premium']]\n",
    "y = df['skipped']\n",
    "\n",
    "X_train, X_test, y_train, y_test = train_test_split(X, y)"
   ]
  },
  {
   "cell_type": "code",
   "execution_count": 33,
   "id": "371cecaf",
   "metadata": {},
   "outputs": [],
   "source": [
    "scaled_pipeline = Pipeline([('smote', SMOTE(random_state=42)),\n",
    "                            ('scaler', StandardScaler()), \n",
    "                            ('logreg', LogisticRegression(random_state=42))])"
   ]
  },
  {
   "cell_type": "code",
   "execution_count": 34,
   "id": "b42b7005",
   "metadata": {},
   "outputs": [
    {
     "data": {
      "text/plain": [
       "0.5647605432451751"
      ]
     },
     "execution_count": 34,
     "metadata": {},
     "output_type": "execute_result"
    }
   ],
   "source": [
    "scaled_pipeline.fit(X_train, y_train)\n",
    "\n",
    "scaled_pipeline.score(X_test, y_test)"
   ]
  },
  {
   "cell_type": "code",
   "execution_count": 35,
   "id": "16e94b79",
   "metadata": {},
   "outputs": [],
   "source": [
    "grid = [{'logreg__C': [0.1, 1, 10, 100, 1000, 10000], \n",
    "         'logreg__solver': ['liblinear', 'newton-cg', 'lbfgs'], \n",
    "         'logreg__penalty': ['l2']}]"
   ]
  },
  {
   "cell_type": "code",
   "execution_count": 36,
   "id": "4fcbd83d",
   "metadata": {},
   "outputs": [],
   "source": [
    "gridsearch = GridSearchCV(estimator=scaled_pipeline, \n",
    "                          param_grid=grid, \n",
    "                          scoring='accuracy', \n",
    "                          cv=3)"
   ]
  },
  {
   "cell_type": "code",
   "execution_count": 37,
   "id": "ce4e6481",
   "metadata": {},
   "outputs": [
    {
     "data": {
      "text/plain": [
       "GridSearchCV(cv=3,\n",
       "             estimator=Pipeline(steps=[('smote', SMOTE(random_state=42)),\n",
       "                                       ('scaler', StandardScaler()),\n",
       "                                       ('logreg',\n",
       "                                        LogisticRegression(random_state=42))]),\n",
       "             param_grid=[{'logreg__C': [0.1, 1, 10, 100, 1000, 10000],\n",
       "                          'logreg__penalty': ['l2'],\n",
       "                          'logreg__solver': ['liblinear', 'newton-cg',\n",
       "                                             'lbfgs']}],\n",
       "             scoring='accuracy')"
      ]
     },
     "execution_count": 37,
     "metadata": {},
     "output_type": "execute_result"
    }
   ],
   "source": [
    "gridsearch.fit(X_train, y_train)"
   ]
  },
  {
   "cell_type": "code",
   "execution_count": 38,
   "id": "b6c3cba5",
   "metadata": {},
   "outputs": [
    {
     "name": "stdout",
     "output_type": "stream",
     "text": [
      "0.5587483122865539\n",
      "0.5647605432451751\n"
     ]
    }
   ],
   "source": [
    "print(gridsearch.score(X_train, y_train))\n",
    "print(gridsearch.score(X_test, y_test))"
   ]
  },
  {
   "cell_type": "code",
   "execution_count": 39,
   "id": "559cfda8",
   "metadata": {},
   "outputs": [
    {
     "data": {
      "text/plain": [
       "Pipeline(steps=[('smote', SMOTE(random_state=42)), ('scaler', StandardScaler()),\n",
       "                ('logreg',\n",
       "                 LogisticRegression(C=0.1, random_state=42,\n",
       "                                    solver='liblinear'))])"
      ]
     },
     "execution_count": 39,
     "metadata": {},
     "output_type": "execute_result"
    }
   ],
   "source": [
    "gridsearch.best_estimator_"
   ]
  },
  {
   "cell_type": "code",
   "execution_count": 40,
   "id": "32a8c788",
   "metadata": {},
   "outputs": [
    {
     "name": "stdout",
     "output_type": "stream",
     "text": [
      "0.5663551401869159\n",
      "0.6827462521843097\n",
      "0.6191280415337461\n"
     ]
    }
   ],
   "source": [
    "y_pred = gridsearch.predict(X_test)\n",
    "print(precision_score(y_test, y_pred))\n",
    "print(recall_score(y_test, y_pred))\n",
    "print(f1_score(y_test, y_pred))"
   ]
  },
  {
   "cell_type": "code",
   "execution_count": 41,
   "id": "484d1e3c",
   "metadata": {},
   "outputs": [
    {
     "data": {
      "text/plain": [
       "<sklearn.metrics._plot.confusion_matrix.ConfusionMatrixDisplay at 0x7fc8926f5700>"
      ]
     },
     "execution_count": 41,
     "metadata": {},
     "output_type": "execute_result"
    },
    {
     "data": {
      "image/png": "[encoded data removed]",
      "text/plain": [
       "<Figure size 640x480 with 2 Axes>"
      ]
     },
     "metadata": {},
     "output_type": "display_data"
    }
   ],
   "source": [
    "cm = confusion_matrix(y_test, y_pred)\n",
    "ConfusionMatrixDisplay(cm).plot()"
   ]
  }
 ],
 "metadata": {
  "kernelspec": {
   "display_name": "Python 3 (ipykernel)",
   "language": "python",
   "name": "python3"
  },
  "language_info": {
   "codemirror_mode": {
    "name": "ipython",
    "version": 3
   },
   "file_extension": ".py",
   "mimetype": "text/x-python",
   "name": "python",
   "nbconvert_exporter": "python",
   "pygments_lexer": "ipython3",
   "version": "3.9.13"
  }
 },
 "nbformat": 4,
 "nbformat_minor": 5
}
